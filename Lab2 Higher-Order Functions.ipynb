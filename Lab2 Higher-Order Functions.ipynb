{
 "cells": [
  {
   "cell_type": "markdown",
   "metadata": {},
   "source": [
    "# Q1: WWPD:Lambda the Free"
   ]
  },
  {
   "cell_type": "code",
   "execution_count": 2,
   "metadata": {},
   "outputs": [],
   "source": [
    "a = lambda x: x"
   ]
  },
  {
   "cell_type": "code",
   "execution_count": 3,
   "metadata": {},
   "outputs": [
    {
     "data": {
      "text/plain": [
       "<function __main__.<lambda>(x)>"
      ]
     },
     "execution_count": 3,
     "metadata": {},
     "output_type": "execute_result"
    }
   ],
   "source": [
    "# a is a lambda function\n",
    "a"
   ]
  },
  {
   "cell_type": "code",
   "execution_count": 4,
   "metadata": {},
   "outputs": [
    {
     "data": {
      "text/plain": [
       "5"
      ]
     },
     "execution_count": 4,
     "metadata": {},
     "output_type": "execute_result"
    }
   ],
   "source": [
    "# calls a with arg 5\n",
    "a(5)"
   ]
  },
  {
   "cell_type": "code",
   "execution_count": 5,
   "metadata": {},
   "outputs": [
    {
     "data": {
      "text/plain": [
       "3"
      ]
     },
     "execution_count": 5,
     "metadata": {},
     "output_type": "execute_result"
    }
   ],
   "source": [
    "#Using a lambda expression as an operator in a call exp.\n",
    "(lambda: 3)()"
   ]
  },
  {
   "cell_type": "code",
   "execution_count": 6,
   "metadata": {},
   "outputs": [
    {
     "data": {
      "text/plain": [
       "5"
      ]
     },
     "execution_count": 6,
     "metadata": {},
     "output_type": "execute_result"
    }
   ],
   "source": [
    "(lambda x: x)(5)"
   ]
  },
  {
   "cell_type": "code",
   "execution_count": 7,
   "metadata": {},
   "outputs": [],
   "source": [
    "# b is a function that returns a lambda function\n",
    "b = lambda x: lambda: x"
   ]
  },
  {
   "cell_type": "code",
   "execution_count": 8,
   "metadata": {},
   "outputs": [
    {
     "data": {
      "text/plain": [
       "<function __main__.<lambda>.<locals>.<lambda>()>"
      ]
     },
     "execution_count": 8,
     "metadata": {},
     "output_type": "execute_result"
    }
   ],
   "source": [
    "b(5)"
   ]
  },
  {
   "cell_type": "code",
   "execution_count": 9,
   "metadata": {},
   "outputs": [
    {
     "data": {
      "text/plain": [
       "5"
      ]
     },
     "execution_count": 9,
     "metadata": {},
     "output_type": "execute_result"
    }
   ],
   "source": [
    "b(5)()"
   ]
  },
  {
   "cell_type": "code",
   "execution_count": 10,
   "metadata": {},
   "outputs": [],
   "source": [
    "# function can be argument\n",
    "d = lambda f: f(4)"
   ]
  },
  {
   "cell_type": "code",
   "execution_count": 11,
   "metadata": {},
   "outputs": [
    {
     "data": {
      "text/plain": [
       "16"
      ]
     },
     "execution_count": 11,
     "metadata": {},
     "output_type": "execute_result"
    }
   ],
   "source": [
    "def square(x):\n",
    "    return x * x\n",
    "d(square)"
   ]
  },
  {
   "cell_type": "code",
   "execution_count": 18,
   "metadata": {},
   "outputs": [
    {
     "data": {
      "text/plain": [
       "<function __main__.<lambda>(x)>"
      ]
     },
     "execution_count": 18,
     "metadata": {},
     "output_type": "execute_result"
    }
   ],
   "source": [
    ">>> x = None # remember to review the rules of WWPD given above!\n",
    ">>> x\n",
    ">>> lambda x: x"
   ]
  },
  {
   "cell_type": "code",
   "execution_count": 19,
   "metadata": {},
   "outputs": [
    {
     "data": {
      "text/plain": [
       "4"
      ]
     },
     "execution_count": 19,
     "metadata": {},
     "output_type": "execute_result"
    }
   ],
   "source": [
    ">>> z = 3\n",
    ">>> e = lambda x: lambda y: lambda: x + y + z\n",
    ">>> e(0)(1)()"
   ]
  },
  {
   "cell_type": "code",
   "execution_count": 23,
   "metadata": {},
   "outputs": [
    {
     "data": {
      "text/plain": [
       "6"
      ]
     },
     "execution_count": 23,
     "metadata": {},
     "output_type": "execute_result"
    }
   ],
   "source": [
    ">>> x=3\n",
    ">>> f = lambda z: x + z\n",
    ">>> f(3)"
   ]
  },
  {
   "cell_type": "code",
   "execution_count": 22,
   "metadata": {},
   "outputs": [
    {
     "data": {
      "text/plain": [
       "4"
      ]
     },
     "execution_count": 22,
     "metadata": {},
     "output_type": "execute_result"
    }
   ],
   "source": [
    ">>> higher_order_lambda = lambda f: lambda x: f(x)\n",
    ">>> g = lambda x: x * x\n",
    ">>> higher_order_lambda(g)(2)  \n",
    "# Which argument belongs to which function call?\n",
    "# 4"
   ]
  },
  {
   "cell_type": "code",
   "execution_count": 24,
   "metadata": {},
   "outputs": [
    {
     "data": {
      "text/plain": [
       "3"
      ]
     },
     "execution_count": 24,
     "metadata": {},
     "output_type": "execute_result"
    }
   ],
   "source": [
    ">>> call_thrice = lambda f: lambda x: f(f(f(x)))\n",
    ">>> call_thrice(lambda y: y + 1)(0)\n",
    "# y=0, ff(0+1) -> f(1+1) -> 3"
   ]
  },
  {
   "cell_type": "code",
   "execution_count": 25,
   "metadata": {},
   "outputs": [
    {
     "data": {
      "text/plain": [
       "<function __main__.<lambda>(z)>"
      ]
     },
     "execution_count": 25,
     "metadata": {},
     "output_type": "execute_result"
    }
   ],
   "source": [
    ">>> print_lambda = lambda z: print(z)  \n",
    "# When is the return expression of a lambda expression executed?\n",
    ">>> print_lambda\n",
    "# return a print function"
   ]
  },
  {
   "cell_type": "code",
   "execution_count": 26,
   "metadata": {},
   "outputs": [
    {
     "name": "stdout",
     "output_type": "stream",
     "text": [
      "4\n"
     ]
    }
   ],
   "source": [
    "print_lambda(4)\n",
    "# print 4"
   ]
  },
  {
   "cell_type": "markdown",
   "metadata": {},
   "source": [
    "# Q2: WWPD: Higher Order Functions"
   ]
  },
  {
   "cell_type": "code",
   "execution_count": 31,
   "metadata": {},
   "outputs": [
    {
     "data": {
      "text/plain": [
       "<function __main__.even.<locals>.odd(x)>"
      ]
     },
     "execution_count": 31,
     "metadata": {},
     "output_type": "execute_result"
    }
   ],
   "source": [
    ">>> def even(f):\n",
    "...     def odd(x):\n",
    "...         if x < 0:\n",
    "...             return f(-x)\n",
    "...         return f(x)\n",
    "...     return odd\n",
    ">>> steven = lambda x: x\n",
    ">>> stewart = even(steven)\n",
    ">>> stewart\n",
    "# even returns a function odd that change the sign of the arg of even\n",
    "# stewart is a f(x)=|x| "
   ]
  },
  {
   "cell_type": "code",
   "execution_count": 30,
   "metadata": {},
   "outputs": [
    {
     "name": "stdout",
     "output_type": "stream",
     "text": [
      "5\n",
      "5\n"
     ]
    }
   ],
   "source": [
    "print(stewart(5))\n",
    "print(stewart(-5))"
   ]
  },
  {
   "cell_type": "code",
   "execution_count": 32,
   "metadata": {},
   "outputs": [
    {
     "name": "stdout",
     "output_type": "stream",
     "text": [
      "beets\n"
     ]
    }
   ],
   "source": [
    ">>> def cake():\n",
    "...    print('beets')\n",
    "...    def pie():\n",
    "...        print('sweets')\n",
    "...        return 'cake'\n",
    "...    return pie\n",
    ">>> chocolate = cake()\n",
    "# a cake retruns a pie that returns a string \"cake\"\n",
    "# print beets and get a pie function"
   ]
  },
  {
   "cell_type": "code",
   "execution_count": 33,
   "metadata": {},
   "outputs": [
    {
     "name": "stdout",
     "output_type": "stream",
     "text": [
      "sweets\n"
     ]
    }
   ],
   "source": [
    ">>> more = chocolate()\n",
    "# print sweets and get a string cake"
   ]
  },
  {
   "cell_type": "code",
   "execution_count": 35,
   "metadata": {},
   "outputs": [
    {
     "name": "stdout",
     "output_type": "stream",
     "text": [
      "sweets\n"
     ]
    }
   ],
   "source": [
    ">>> more_chocolate, more_cake = chocolate(), cake"
   ]
  },
  {
   "cell_type": "code",
   "execution_count": 36,
   "metadata": {},
   "outputs": [
    {
     "data": {
      "text/plain": [
       "<function __main__.cake.<locals>.pie()>"
      ]
     },
     "execution_count": 36,
     "metadata": {},
     "output_type": "execute_result"
    }
   ],
   "source": [
    ">>> def snake(x, y):\n",
    "...    if cake == more_cake:\n",
    "...        return chocolate\n",
    "...    else:\n",
    "...        return x + y\n",
    ">>> snake(10, 20)\n",
    "# snake gets chocolate"
   ]
  },
  {
   "cell_type": "code",
   "execution_count": 37,
   "metadata": {},
   "outputs": [
    {
     "name": "stdout",
     "output_type": "stream",
     "text": [
      "sweets\n"
     ]
    },
    {
     "data": {
      "text/plain": [
       "'cake'"
      ]
     },
     "execution_count": 37,
     "metadata": {},
     "output_type": "execute_result"
    }
   ],
   "source": [
    ">>> snake(10, 20)()\n",
    "# gets pie, print sweet"
   ]
  },
  {
   "cell_type": "code",
   "execution_count": 38,
   "metadata": {},
   "outputs": [
    {
     "data": {
      "text/plain": [
       "30"
      ]
     },
     "execution_count": 38,
     "metadata": {},
     "output_type": "execute_result"
    }
   ],
   "source": [
    ">>> cake = 'cake'\n",
    ">>> snake(10, 20)\n",
    "# print 30"
   ]
  },
  {
   "cell_type": "markdown",
   "metadata": {},
   "source": [
    "# Q3: Lambdas and Currying\n",
    "we can write a function f(x, y) as a different function g(x)(y). This is known as currying."
   ]
  },
  {
   "cell_type": "code",
   "execution_count": 42,
   "metadata": {},
   "outputs": [
    {
     "name": "stdout",
     "output_type": "stream",
     "text": [
      "Trying:\n",
      "    from operator import add, mul, mod\n",
      "Expecting nothing\n",
      "ok\n",
      "Trying:\n",
      "    curried_add = lambda_curry2(add)\n",
      "Expecting nothing\n",
      "ok\n",
      "Trying:\n",
      "    add_three = curried_add(3)\n",
      "Expecting nothing\n",
      "ok\n",
      "Trying:\n",
      "    add_three(5)\n",
      "Expecting:\n",
      "    8\n",
      "ok\n",
      "Trying:\n",
      "    curried_mul = lambda_curry2(mul)\n",
      "Expecting nothing\n",
      "ok\n",
      "Trying:\n",
      "    mul_5 = curried_mul(5)\n",
      "Expecting nothing\n",
      "ok\n",
      "Trying:\n",
      "    mul_5(42)\n",
      "Expecting:\n",
      "    210\n",
      "ok\n",
      "Trying:\n",
      "    lambda_curry2(mod)(123)(10)\n",
      "Expecting:\n",
      "    3\n",
      "ok\n",
      "23 items had no tests:\n",
      "    __main__\n",
      "    __main__._13\n",
      "    __main__._18\n",
      "    __main__._27\n",
      "    __main__._8\n",
      "    __main__.a\n",
      "    __main__.add_three\n",
      "    __main__.b\n",
      "    __main__.call_thrice\n",
      "    __main__.chocolate\n",
      "    __main__.curried_add\n",
      "    __main__.d\n",
      "    __main__.e\n",
      "    __main__.even\n",
      "    __main__.f\n",
      "    __main__.g\n",
      "    __main__.higher_order_lambda\n",
      "    __main__.more_cake\n",
      "    __main__.print_lambda\n",
      "    __main__.snake\n",
      "    __main__.square\n",
      "    __main__.steven\n",
      "    __main__.stewart\n",
      "1 items passed all tests:\n",
      "   8 tests in __main__.lambda_curry2\n",
      "8 tests in 24 items.\n",
      "8 passed and 0 failed.\n",
      "Test passed.\n"
     ]
    },
    {
     "data": {
      "text/plain": [
       "TestResults(failed=0, attempted=8)"
      ]
     },
     "execution_count": 42,
     "metadata": {},
     "output_type": "execute_result"
    }
   ],
   "source": [
    "import doctest\n",
    "doctest.testmod(verbose=True)"
   ]
  },
  {
   "cell_type": "code",
   "execution_count": 43,
   "metadata": {},
   "outputs": [],
   "source": [
    "def lambda_curry2(func):\n",
    "    \"\"\"\n",
    "    Returns a Curried version of a two-argument function FUNC.\n",
    "    >>> from operator import add, mul, mod\n",
    "    >>> curried_add = lambda_curry2(add)\n",
    "    >>> add_three = curried_add(3)\n",
    "    >>> add_three(5)\n",
    "    8\n",
    "    >>> curried_mul = lambda_curry2(mul)\n",
    "    >>> mul_5 = curried_mul(5)\n",
    "    >>> mul_5(42)\n",
    "    210\n",
    "    >>> lambda_curry2(mod)(123)(10)\n",
    "    3\n",
    "    \"\"\"\n",
    "    \"*** YOUR CODE HERE ***\"\n",
    "    return lambda a: lambda b: func(a,b)"
   ]
  },
  {
   "cell_type": "code",
   "execution_count": 44,
   "metadata": {},
   "outputs": [
    {
     "data": {
      "text/plain": [
       "8"
      ]
     },
     "execution_count": 44,
     "metadata": {},
     "output_type": "execute_result"
    }
   ],
   "source": [
    ">>> from operator import add, mul, mod\n",
    ">>> curried_add = lambda_curry2(add)\n",
    ">>> add_three = curried_add(3)\n",
    ">>> add_three(5)"
   ]
  },
  {
   "cell_type": "markdown",
   "metadata": {},
   "source": [
    "# Q4: Count van Count"
   ]
  },
  {
   "cell_type": "code",
   "execution_count": null,
   "metadata": {},
   "outputs": [],
   "source": [
    "def count_factors(n):\n",
    "    \"\"\"Return the number of positive factors that n has.\n",
    "    >>> count_factors(6)\n",
    "    4   # 1, 2, 3, 6\n",
    "    >>> count_factors(4)\n",
    "    3   # 1, 2, 4\n",
    "    \"\"\"\n",
    "    i = 1\n",
    "    count = 0\n",
    "    while i <= n:\n",
    "        if n % i == 0:\n",
    "            count += 1\n",
    "        i += 1\n",
    "    return count\n",
    "\n",
    "def count_primes(n):\n",
    "    \"\"\"Return the number of prime numbers up to and including n.\n",
    "    >>> count_primes(6)\n",
    "    3   # 2, 3, 5\n",
    "    >>> count_primes(13)\n",
    "    6   # 2, 3, 5, 7, 11, 13\n",
    "    \"\"\"\n",
    "    i = 1\n",
    "    count = 0\n",
    "    while i <= n:\n",
    "        if is_prime(i):\n",
    "            count += 1\n",
    "        i += 1\n",
    "    return count\n",
    "\n",
    "def is_prime(n):\n",
    "    return count_factors(n) == 2 # only factors are 1 and n"
   ]
  },
  {
   "cell_type": "code",
   "execution_count": 47,
   "metadata": {},
   "outputs": [],
   "source": [
    "def count_cond(condition):\n",
    "    \"\"\"Returns a function with one parameter N that counts all the numbers from\n",
    "    1 to N that satisfy the two-argument predicate function Condition, where\n",
    "    the first argument for Condition is N and the second argument is the\n",
    "    number from 1 to N.\n",
    "\n",
    "    >>> count_factors = count_cond(lambda n, i: n % i == 0)\n",
    "    >>> count_factors(2)   # 1, 2\n",
    "    2\n",
    "    >>> count_factors(4)   # 1, 2, 4\n",
    "    3\n",
    "    >>> count_factors(12)  # 1, 2, 3, 4, 6, 12\n",
    "    6\n",
    "\n",
    "    >>> is_prime = lambda n, i: count_factors(i) == 2\n",
    "    >>> count_primes = count_cond(is_prime)\n",
    "    >>> count_primes(2)    # 2\n",
    "    1\n",
    "    >>> count_primes(3)    # 2, 3\n",
    "    2\n",
    "    >>> count_primes(4)    # 2, 3\n",
    "    2\n",
    "    >>> count_primes(5)    # 2, 3, 5\n",
    "    3\n",
    "    >>> count_primes(20)   # 2, 3, 5, 7, 11, 13, 17, 19\n",
    "    8\n",
    "    \"\"\"\n",
    "    \"*** YOUR CODE HERE ***\"\n",
    "    def a(n):\n",
    "        i = 1\n",
    "        count = 0\n",
    "        while i <= n:\n",
    "            if condition(n, i):\n",
    "                count += 1\n",
    "            i += 1\n",
    "        return count\n",
    "    return a "
   ]
  },
  {
   "cell_type": "code",
   "execution_count": 49,
   "metadata": {},
   "outputs": [
    {
     "data": {
      "text/plain": [
       "TestResults(failed=0, attempted=19)"
      ]
     },
     "execution_count": 49,
     "metadata": {},
     "output_type": "execute_result"
    }
   ],
   "source": [
    "doctest.testmod(verbose=True)"
   ]
  },
  {
   "cell_type": "markdown",
   "metadata": {},
   "source": [
    "# Q5: Make Adder"
   ]
  },
  {
   "cell_type": "code",
   "execution_count": 50,
   "metadata": {},
   "outputs": [],
   "source": [
    "n = 9\n",
    "def make_adder(n):\n",
    "    return lambda k: k + n\n",
    "add_ten = make_adder(n+1)\n",
    "result = add_ten(n)"
   ]
  },
  {
   "cell_type": "markdown",
   "metadata": {},
   "source": [
    "# Q6: Lambda the Environment Diagram"
   ]
  },
  {
   "cell_type": "code",
   "execution_count": 51,
   "metadata": {},
   "outputs": [
    {
     "data": {
      "text/plain": [
       "21"
      ]
     },
     "execution_count": 51,
     "metadata": {},
     "output_type": "execute_result"
    }
   ],
   "source": [
    ">>> a = lambda x: x * 2 + 1\n",
    ">>> def b(b, x):\n",
    "...     return b(x + a(x))\n",
    ">>> x = 3\n",
    ">>> b(a, x)\n",
    "# argument b is a function\n",
    "# 2*(x+a(x))+1 -> 2*(3+2*3+1)+1 =21"
   ]
  },
  {
   "cell_type": "markdown",
   "metadata": {},
   "source": [
    "# Q7: Composite Identity Function\n",
    "Write a function that takes in two single-argument functions, f and g, and returns another function that has a single parameter x. The returned function should return True if f(g(x)) is equal to g(f(x)). You can assume the output of g(x) is a valid input for f and vice versa. Try to use the compose1 function defined below for more HOF practice."
   ]
  },
  {
   "cell_type": "code",
   "execution_count": 54,
   "metadata": {},
   "outputs": [],
   "source": [
    "def compose1(f, g):\n",
    "    \"\"\"Return the composition function which given x, computes f(g(x)).\n",
    "\n",
    "    >>> add_one = lambda x: x + 1        # adds one to x\n",
    "    >>> square = lambda x: x**2\n",
    "    >>> a1 = compose1(square, add_one)   # (x + 1)^2\n",
    "    >>> a1(4)\n",
    "    25\n",
    "    >>> mul_three = lambda x: x * 3      # multiplies 3 to x\n",
    "    >>> a2 = compose1(mul_three, a1)    # ((x + 1)^2) * 3\n",
    "    >>> a2(4)\n",
    "    75\n",
    "    >>> a2(5)\n",
    "    108\n",
    "    \"\"\"\n",
    "    return lambda x: f(g(x))\n",
    "\n",
    "def composite_identity(f, g):\n",
    "    \"\"\"\n",
    "    Return a function with one parameter x that returns True if f(g(x)) is\n",
    "    equal to g(f(x)). You can assume the result of g(x) is a valid input for f\n",
    "    and vice versa.\n",
    "\n",
    "    >>> add_one = lambda x: x + 1        # adds one to x\n",
    "    >>> square = lambda x: x**2\n",
    "    >>> b1 = composite_identity(square, add_one)\n",
    "    >>> b1(0)                            # (0 + 1)^2 == 0^2 + 1\n",
    "    True\n",
    "    >>> b1(4)                            # (4 + 1)^2 != 4^2 + 1\n",
    "    False\n",
    "    \"\"\"\n",
    "    \"*** YOUR CODE HERE ***\"\n",
    "    return lambda x: compose1(f,g)(x)==compose1(g,f)(x)"
   ]
  },
  {
   "cell_type": "code",
   "execution_count": 55,
   "metadata": {},
   "outputs": [
    {
     "name": "stdout",
     "output_type": "stream",
     "text": [
      "Trying:\n",
      "    add_one = lambda x: x + 1        # adds one to x\n",
      "Expecting nothing\n",
      "ok\n",
      "Trying:\n",
      "    square = lambda x: x**2\n",
      "Expecting nothing\n",
      "ok\n",
      "Trying:\n",
      "    a1 = compose1(square, add_one)   # (x + 1)^2\n",
      "Expecting nothing\n",
      "ok\n",
      "Trying:\n",
      "    a1(4)\n",
      "Expecting:\n",
      "    25\n",
      "ok\n",
      "Trying:\n",
      "    mul_three = lambda x: x * 3      # multiplies 3 to x\n",
      "Expecting nothing\n",
      "ok\n",
      "Trying:\n",
      "    a2 = compose1(mul_three, a1)    # ((x + 1)^2) * 3\n",
      "Expecting nothing\n",
      "ok\n",
      "Trying:\n",
      "    a2(4)\n",
      "Expecting:\n",
      "    75\n",
      "ok\n",
      "Trying:\n",
      "    a2(5)\n",
      "Expecting:\n",
      "    108\n",
      "ok\n",
      "Trying:\n",
      "    add_one = lambda x: x + 1        # adds one to x\n",
      "Expecting nothing\n",
      "ok\n",
      "Trying:\n",
      "    square = lambda x: x**2\n",
      "Expecting nothing\n",
      "ok\n",
      "Trying:\n",
      "    b1 = composite_identity(square, add_one)\n",
      "Expecting nothing\n",
      "ok\n",
      "Trying:\n",
      "    b1(0)                            # (0 + 1)^2 == 0^2 + 1\n",
      "Expecting:\n",
      "    True\n",
      "ok\n",
      "Trying:\n",
      "    b1(4)                            # (4 + 1)^2 != 4^2 + 1\n",
      "Expecting:\n",
      "    False\n",
      "ok\n",
      "Trying:\n",
      "    count_factors = count_cond(lambda n, i: n % i == 0)\n",
      "Expecting nothing\n",
      "ok\n",
      "Trying:\n",
      "    count_factors(2)   # 1, 2\n",
      "Expecting:\n",
      "    2\n",
      "ok\n",
      "Trying:\n",
      "    count_factors(4)   # 1, 2, 4\n",
      "Expecting:\n",
      "    3\n",
      "ok\n",
      "Trying:\n",
      "    count_factors(12)  # 1, 2, 3, 4, 6, 12\n",
      "Expecting:\n",
      "    6\n",
      "ok\n",
      "Trying:\n",
      "    is_prime = lambda n, i: count_factors(i) == 2\n",
      "Expecting nothing\n",
      "ok\n",
      "Trying:\n",
      "    count_primes = count_cond(is_prime)\n",
      "Expecting nothing\n",
      "ok\n",
      "Trying:\n",
      "    count_primes(2)    # 2\n",
      "Expecting:\n",
      "    1\n",
      "ok\n",
      "Trying:\n",
      "    count_primes(3)    # 2, 3\n",
      "Expecting:\n",
      "    2\n",
      "ok\n",
      "Trying:\n",
      "    count_primes(4)    # 2, 3\n",
      "Expecting:\n",
      "    2\n",
      "ok\n",
      "Trying:\n",
      "    count_primes(5)    # 2, 3, 5\n",
      "Expecting:\n",
      "    3\n",
      "ok\n",
      "Trying:\n",
      "    count_primes(20)   # 2, 3, 5, 7, 11, 13, 17, 19\n",
      "Expecting:\n",
      "    8\n",
      "ok\n",
      "Trying:\n",
      "    from operator import add, mul, mod\n",
      "Expecting nothing\n",
      "ok\n",
      "Trying:\n",
      "    curried_add = lambda_curry2(add)\n",
      "Expecting nothing\n",
      "ok\n",
      "Trying:\n",
      "    add_three = curried_add(3)\n",
      "Expecting nothing\n",
      "ok\n",
      "Trying:\n",
      "    add_three(5)\n",
      "Expecting:\n",
      "    8\n",
      "ok\n",
      "Trying:\n",
      "    curried_mul = lambda_curry2(mul)\n",
      "Expecting nothing\n",
      "ok\n",
      "Trying:\n",
      "    mul_5 = curried_mul(5)\n",
      "Expecting nothing\n",
      "ok\n",
      "Trying:\n",
      "    mul_5(42)\n",
      "Expecting:\n",
      "    210\n",
      "ok\n",
      "Trying:\n",
      "    lambda_curry2(mod)(123)(10)\n",
      "Expecting:\n",
      "    3\n",
      "ok\n",
      "26 items had no tests:\n",
      "    __main__\n",
      "    __main__._13\n",
      "    __main__._18\n",
      "    __main__._27\n",
      "    __main__._3\n",
      "    __main__._8\n",
      "    __main__.a\n",
      "    __main__.add_ten\n",
      "    __main__.add_three\n",
      "    __main__.b\n",
      "    __main__.call_thrice\n",
      "    __main__.chocolate\n",
      "    __main__.curried_add\n",
      "    __main__.d\n",
      "    __main__.e\n",
      "    __main__.even\n",
      "    __main__.f\n",
      "    __main__.g\n",
      "    __main__.higher_order_lambda\n",
      "    __main__.make_adder\n",
      "    __main__.more_cake\n",
      "    __main__.print_lambda\n",
      "    __main__.snake\n",
      "    __main__.square\n",
      "    __main__.steven\n",
      "    __main__.stewart\n",
      "4 items passed all tests:\n",
      "   8 tests in __main__.compose1\n",
      "   5 tests in __main__.composite_identity\n",
      "  11 tests in __main__.count_cond\n",
      "   8 tests in __main__.lambda_curry2\n",
      "32 tests in 30 items.\n",
      "32 passed and 0 failed.\n",
      "Test passed.\n"
     ]
    },
    {
     "data": {
      "text/plain": [
       "TestResults(failed=0, attempted=32)"
      ]
     },
     "execution_count": 55,
     "metadata": {},
     "output_type": "execute_result"
    }
   ],
   "source": [
    "doctest.testmod(verbose=True)"
   ]
  },
  {
   "cell_type": "markdown",
   "metadata": {},
   "source": [
    "# Q8: I Heard You Liked Functions...\n",
    "Define a function cycle that takes in three functions f1, f2, f3, as arguments. cycle will return another function that should take in an integer argument n and return another function. That final function should take in an argument x and cycle through applying f1, f2, and f3 to x, depending on what n was. Here's what the final function should do to x for a few values of n:\n",
    "\n",
    "* n = 0, return x\n",
    "* n = 1, apply f1 to x, or return f1(x)\n",
    "* n = 2, apply f1 to x and then f2 to the result of that, or return f2(f1(x))\n",
    "* n = 3, apply f1 to x, f2 to the result of applying f1, and then f3 to the result of applying f2, or f3(f2(f1(x)))\n",
    "* n = 4, start the cycle again applying f1, then f2, then f3, then f1 again, or f1(f3(f2(f1(x))))\n",
    "* And so forth. \n",
    "\n",
    "*Hint*: most of the work goes inside the most nested function."
   ]
  },
  {
   "cell_type": "code",
   "execution_count": 66,
   "metadata": {},
   "outputs": [],
   "source": [
    "def cycle(f1, f2, f3):\n",
    "    \"\"\"Returns a function that is itself a higher-order function.\n",
    "\n",
    "    >>> def add1(x):\n",
    "    ...     return x + 1\n",
    "    >>> def times2(x):\n",
    "    ...     return x * 2\n",
    "    >>> def add3(x):\n",
    "    ...     return x + 3\n",
    "    >>> my_cycle = cycle(add1, times2, add3)\n",
    "    >>> identity = my_cycle(0)\n",
    "    >>> identity(5)\n",
    "    5\n",
    "    >>> add_one_then_double = my_cycle(2)\n",
    "    >>> add_one_then_double(1)\n",
    "    4\n",
    "    >>> do_all_functions = my_cycle(3)\n",
    "    >>> do_all_functions(2)\n",
    "    9\n",
    "    >>> do_more_than_a_cycle = my_cycle(4)\n",
    "    >>> do_more_than_a_cycle(2)\n",
    "    10\n",
    "    >>> do_two_cycles = my_cycle(6)\n",
    "    >>> do_two_cycles(1)\n",
    "    19\n",
    "    \"\"\"\n",
    "    \"*** YOUR CODE HERE ***\"\n",
    "    def nfunct(n,x):\n",
    "        if n==0:\n",
    "            return x\n",
    "        if (n%3)==1:\n",
    "            return f1(nfunct(n-1,x))\n",
    "        if (n%3)==2:\n",
    "            return f2(nfunct(n-1,x))\n",
    "        if (n%3)==0:\n",
    "            return f3(nfunct(n-1,x))\n",
    "        \n",
    "    return lambda n: lambda x: nfunct(n,x)"
   ]
  },
  {
   "cell_type": "code",
   "execution_count": 67,
   "metadata": {},
   "outputs": [
    {
     "name": "stdout",
     "output_type": "stream",
     "text": [
      "Trying:\n",
      "    add_one = lambda x: x + 1        # adds one to x\n",
      "Expecting nothing\n",
      "ok\n",
      "Trying:\n",
      "    square = lambda x: x**2\n",
      "Expecting nothing\n",
      "ok\n",
      "Trying:\n",
      "    a1 = compose1(square, add_one)   # (x + 1)^2\n",
      "Expecting nothing\n",
      "ok\n",
      "Trying:\n",
      "    a1(4)\n",
      "Expecting:\n",
      "    25\n",
      "ok\n",
      "Trying:\n",
      "    mul_three = lambda x: x * 3      # multiplies 3 to x\n",
      "Expecting nothing\n",
      "ok\n",
      "Trying:\n",
      "    a2 = compose1(mul_three, a1)    # ((x + 1)^2) * 3\n",
      "Expecting nothing\n",
      "ok\n",
      "Trying:\n",
      "    a2(4)\n",
      "Expecting:\n",
      "    75\n",
      "ok\n",
      "Trying:\n",
      "    a2(5)\n",
      "Expecting:\n",
      "    108\n",
      "ok\n",
      "Trying:\n",
      "    add_one = lambda x: x + 1        # adds one to x\n",
      "Expecting nothing\n",
      "ok\n",
      "Trying:\n",
      "    square = lambda x: x**2\n",
      "Expecting nothing\n",
      "ok\n",
      "Trying:\n",
      "    b1 = composite_identity(square, add_one)\n",
      "Expecting nothing\n",
      "ok\n",
      "Trying:\n",
      "    b1(0)                            # (0 + 1)^2 == 0^2 + 1\n",
      "Expecting:\n",
      "    True\n",
      "ok\n",
      "Trying:\n",
      "    b1(4)                            # (4 + 1)^2 != 4^2 + 1\n",
      "Expecting:\n",
      "    False\n",
      "ok\n",
      "Trying:\n",
      "    count_factors = count_cond(lambda n, i: n % i == 0)\n",
      "Expecting nothing\n",
      "ok\n",
      "Trying:\n",
      "    count_factors(2)   # 1, 2\n",
      "Expecting:\n",
      "    2\n",
      "ok\n",
      "Trying:\n",
      "    count_factors(4)   # 1, 2, 4\n",
      "Expecting:\n",
      "    3\n",
      "ok\n",
      "Trying:\n",
      "    count_factors(12)  # 1, 2, 3, 4, 6, 12\n",
      "Expecting:\n",
      "    6\n",
      "ok\n",
      "Trying:\n",
      "    is_prime = lambda n, i: count_factors(i) == 2\n",
      "Expecting nothing\n",
      "ok\n",
      "Trying:\n",
      "    count_primes = count_cond(is_prime)\n",
      "Expecting nothing\n",
      "ok\n",
      "Trying:\n",
      "    count_primes(2)    # 2\n",
      "Expecting:\n",
      "    1\n",
      "ok\n",
      "Trying:\n",
      "    count_primes(3)    # 2, 3\n",
      "Expecting:\n",
      "    2\n",
      "ok\n",
      "Trying:\n",
      "    count_primes(4)    # 2, 3\n",
      "Expecting:\n",
      "    2\n",
      "ok\n",
      "Trying:\n",
      "    count_primes(5)    # 2, 3, 5\n",
      "Expecting:\n",
      "    3\n",
      "ok\n",
      "Trying:\n",
      "    count_primes(20)   # 2, 3, 5, 7, 11, 13, 17, 19\n",
      "Expecting:\n",
      "    8\n",
      "ok\n",
      "Trying:\n",
      "    def add1(x):\n",
      "        return x + 1\n",
      "Expecting nothing\n",
      "ok\n",
      "Trying:\n",
      "    def times2(x):\n",
      "        return x * 2\n",
      "Expecting nothing\n",
      "ok\n",
      "Trying:\n",
      "    def add3(x):\n",
      "        return x + 3\n",
      "Expecting nothing\n",
      "ok\n",
      "Trying:\n",
      "    my_cycle = cycle(add1, times2, add3)\n",
      "Expecting nothing\n",
      "ok\n",
      "Trying:\n",
      "    identity = my_cycle(0)\n",
      "Expecting nothing\n",
      "ok\n",
      "Trying:\n",
      "    identity(5)\n",
      "Expecting:\n",
      "    5\n",
      "ok\n",
      "Trying:\n",
      "    add_one_then_double = my_cycle(2)\n",
      "Expecting nothing\n",
      "ok\n",
      "Trying:\n",
      "    add_one_then_double(1)\n",
      "Expecting:\n",
      "    4\n",
      "ok\n",
      "Trying:\n",
      "    do_all_functions = my_cycle(3)\n",
      "Expecting nothing\n",
      "ok\n",
      "Trying:\n",
      "    do_all_functions(2)\n",
      "Expecting:\n",
      "    9\n",
      "ok\n",
      "Trying:\n",
      "    do_more_than_a_cycle = my_cycle(4)\n",
      "Expecting nothing\n",
      "ok\n",
      "Trying:\n",
      "    do_more_than_a_cycle(2)\n",
      "Expecting:\n",
      "    10\n",
      "ok\n",
      "Trying:\n",
      "    do_two_cycles = my_cycle(6)\n",
      "Expecting nothing\n",
      "ok\n",
      "Trying:\n",
      "    do_two_cycles(1)\n",
      "Expecting:\n",
      "    19\n",
      "ok\n",
      "Trying:\n",
      "    from operator import add, mul, mod\n",
      "Expecting nothing\n",
      "ok\n",
      "Trying:\n",
      "    curried_add = lambda_curry2(add)\n",
      "Expecting nothing\n",
      "ok\n",
      "Trying:\n",
      "    add_three = curried_add(3)\n",
      "Expecting nothing\n",
      "ok\n",
      "Trying:\n",
      "    add_three(5)\n",
      "Expecting:\n",
      "    8\n",
      "ok\n",
      "Trying:\n",
      "    curried_mul = lambda_curry2(mul)\n",
      "Expecting nothing\n",
      "ok\n",
      "Trying:\n",
      "    mul_5 = curried_mul(5)\n",
      "Expecting nothing\n",
      "ok\n",
      "Trying:\n",
      "    mul_5(42)\n",
      "Expecting:\n",
      "    210\n",
      "ok\n",
      "Trying:\n",
      "    lambda_curry2(mod)(123)(10)\n",
      "Expecting:\n",
      "    3\n",
      "ok\n",
      "26 items had no tests:\n",
      "    __main__\n",
      "    __main__._13\n",
      "    __main__._18\n",
      "    __main__._27\n",
      "    __main__._3\n",
      "    __main__._8\n",
      "    __main__.a\n",
      "    __main__.add_ten\n",
      "    __main__.add_three\n",
      "    __main__.b\n",
      "    __main__.call_thrice\n",
      "    __main__.chocolate\n",
      "    __main__.curried_add\n",
      "    __main__.d\n",
      "    __main__.e\n",
      "    __main__.even\n",
      "    __main__.f\n",
      "    __main__.g\n",
      "    __main__.higher_order_lambda\n",
      "    __main__.make_adder\n",
      "    __main__.more_cake\n",
      "    __main__.print_lambda\n",
      "    __main__.snake\n",
      "    __main__.square\n",
      "    __main__.steven\n",
      "    __main__.stewart\n",
      "5 items passed all tests:\n",
      "   8 tests in __main__.compose1\n",
      "   5 tests in __main__.composite_identity\n",
      "  11 tests in __main__.count_cond\n",
      "  14 tests in __main__.cycle\n",
      "   8 tests in __main__.lambda_curry2\n",
      "46 tests in 31 items.\n",
      "46 passed and 0 failed.\n",
      "Test passed.\n"
     ]
    },
    {
     "data": {
      "text/plain": [
       "TestResults(failed=0, attempted=46)"
      ]
     },
     "execution_count": 67,
     "metadata": {},
     "output_type": "execute_result"
    }
   ],
   "source": [
    "doctest.testmod(verbose=True)"
   ]
  },
  {
   "cell_type": "code",
   "execution_count": 65,
   "metadata": {},
   "outputs": [
    {
     "data": {
      "text/plain": [
       "2"
      ]
     },
     "execution_count": 65,
     "metadata": {},
     "output_type": "execute_result"
    }
   ],
   "source": [
    "2%3"
   ]
  },
  {
   "cell_type": "code",
   "execution_count": null,
   "metadata": {},
   "outputs": [],
   "source": []
  }
 ],
 "metadata": {
  "kernelspec": {
   "display_name": "Python 3",
   "language": "python",
   "name": "python3"
  },
  "language_info": {
   "codemirror_mode": {
    "name": "ipython",
    "version": 3
   },
   "file_extension": ".py",
   "mimetype": "text/x-python",
   "name": "python",
   "nbconvert_exporter": "python",
   "pygments_lexer": "ipython3",
   "version": "3.6.9"
  }
 },
 "nbformat": 4,
 "nbformat_minor": 4
}
