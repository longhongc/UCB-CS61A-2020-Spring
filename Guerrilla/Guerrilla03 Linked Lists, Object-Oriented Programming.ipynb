{
 "cells": [
  {
   "cell_type": "code",
   "execution_count": 1,
   "metadata": {},
   "outputs": [],
   "source": [
    "class Link():\n",
    "    empty = ()\n",
    "    def __init__(self, first, rest = empty):\n",
    "        assert rest is Link.empty or isinstance(rest, Link), \"error\"\n",
    "        self.first = first\n",
    "        self.rest = rest"
   ]
  },
  {
   "cell_type": "code",
   "execution_count": 2,
   "metadata": {},
   "outputs": [],
   "source": [
    "#1.3\n",
    "def has_cycle(link):\n",
    "    \"\"\"\n",
    "    >>> s = Link(1, Link(2, Link(3)))\n",
    "    >>> s.rest.rest.rest = s\n",
    "    >>> has_cycle(s)\n",
    "    True\n",
    "    \"\"\"\n",
    "    caches=[]\n",
    "    while not link is Link.empty:\n",
    "        if not link in caches:\n",
    "            caches.append(link)\n",
    "        else:\n",
    "            return True\n",
    "        link = link.rest\n",
    "    return False"
   ]
  },
  {
   "cell_type": "code",
   "execution_count": 3,
   "metadata": {},
   "outputs": [
    {
     "data": {
      "text/plain": [
       "True"
      ]
     },
     "execution_count": 3,
     "metadata": {},
     "output_type": "execute_result"
    }
   ],
   "source": [
    ">>> s = Link(1, Link(2, Link(3)))\n",
    ">>> s.rest.rest.rest = s\n",
    ">>> has_cycle(s)"
   ]
  },
  {
   "cell_type": "code",
   "execution_count": 4,
   "metadata": {},
   "outputs": [],
   "source": [
    "#1.4\n",
    "def seq_in_link(link, sub_link):\n",
    "    \"\"\"\n",
    "    >>> lnk1 = Link(1, Link(2, Link(3, Link(4))))\n",
    "    >>> lnk2 = Link(1, Link(3))\n",
    "    >>> lnk3 = Link(4, Link(3, Link(2, Link(1))))\n",
    "    >>> seq_in_link(lnk1, lnk2)\n",
    "    True\n",
    "    >>> seq_in_link(lnk1, lnk3)\n",
    "    False\n",
    "    \"\"\"\n",
    "    while not link is Link.empty:\n",
    "        if link.first == sub_link.first:\n",
    "            sub_link = sub_link.rest\n",
    "        if sub_link is Link.empty:\n",
    "            return True\n",
    "        link = link.rest\n",
    "    return False"
   ]
  },
  {
   "cell_type": "code",
   "execution_count": 5,
   "metadata": {},
   "outputs": [
    {
     "data": {
      "text/plain": [
       "True"
      ]
     },
     "execution_count": 5,
     "metadata": {},
     "output_type": "execute_result"
    }
   ],
   "source": [
    ">>> lnk1 = Link(1, Link(2, Link(3, Link(4))))\n",
    ">>> lnk2 = Link(1, Link(3))\n",
    ">>> lnk3 = Link(4, Link(3, Link(2, Link(1))))\n",
    ">>> seq_in_link(lnk1, lnk2)"
   ]
  },
  {
   "cell_type": "code",
   "execution_count": 6,
   "metadata": {},
   "outputs": [
    {
     "data": {
      "text/plain": [
       "False"
      ]
     },
     "execution_count": 6,
     "metadata": {},
     "output_type": "execute_result"
    }
   ],
   "source": [
    ">>> seq_in_link(lnk1, lnk3)"
   ]
  },
  {
   "cell_type": "code",
   "execution_count": 13,
   "metadata": {},
   "outputs": [],
   "source": [
    "#2.6\n",
    "class Cat():\n",
    "    noise = 'meow'\n",
    "    def __init__(self, name):\n",
    "        self.name = name\n",
    "        self.hungry = True\n",
    "    def meow(self):\n",
    "        if self.hungry:\n",
    "            print(\"{0}, {1} is hungry\".format(self.noise, self.name))\n",
    "        else:\n",
    "            print(\"{0}, my name is {1}\".format(self.noise, self.name))\n",
    "    def eat(self):\n",
    "        print(self.noise)\n",
    "        self.hungry = False\n",
    "class Kitten(Cat):\n",
    "    noise = \"i'm baby\"\n",
    "    def __init__(self, name, mom):\n",
    "        self.name = name\n",
    "        self.mom = mom\n",
    "        self.hungry = True\n",
    "    def meow(self):\n",
    "        Cat.meow(self)\n",
    "        print(\"I want mama {}\".format(self.mom.name))"
   ]
  },
  {
   "cell_type": "code",
   "execution_count": 14,
   "metadata": {},
   "outputs": [
    {
     "name": "stdout",
     "output_type": "stream",
     "text": [
      "meow, Tuna is hungry\n"
     ]
    }
   ],
   "source": [
    "cat = Cat('Tuna')\n",
    "kitten = Kitten('Fish', cat)\n",
    "cat.meow()"
   ]
  },
  {
   "cell_type": "code",
   "execution_count": 15,
   "metadata": {},
   "outputs": [
    {
     "name": "stdout",
     "output_type": "stream",
     "text": [
      "i'm baby, Fish is hungry\n",
      "I want mama Tuna\n"
     ]
    }
   ],
   "source": [
    "kitten.meow()"
   ]
  },
  {
   "cell_type": "code",
   "execution_count": 16,
   "metadata": {},
   "outputs": [
    {
     "name": "stdout",
     "output_type": "stream",
     "text": [
      "meow\n"
     ]
    }
   ],
   "source": [
    "cat.eat()"
   ]
  },
  {
   "cell_type": "code",
   "execution_count": 17,
   "metadata": {},
   "outputs": [
    {
     "name": "stdout",
     "output_type": "stream",
     "text": [
      "meow, my name is Tuna\n"
     ]
    }
   ],
   "source": [
    "cat.meow()"
   ]
  },
  {
   "cell_type": "code",
   "execution_count": 18,
   "metadata": {},
   "outputs": [
    {
     "name": "stdout",
     "output_type": "stream",
     "text": [
      "i'm baby\n"
     ]
    }
   ],
   "source": [
    "kitten.eat()"
   ]
  },
  {
   "cell_type": "code",
   "execution_count": 19,
   "metadata": {},
   "outputs": [
    {
     "name": "stdout",
     "output_type": "stream",
     "text": [
      "i'm baby, my name is Fish\n",
      "I want mama Tuna\n"
     ]
    }
   ],
   "source": [
    "kitten.meow()"
   ]
  },
  {
   "cell_type": "code",
   "execution_count": null,
   "metadata": {},
   "outputs": [],
   "source": []
  }
 ],
 "metadata": {
  "kernelspec": {
   "display_name": "Python 3",
   "language": "python",
   "name": "python3"
  },
  "language_info": {
   "codemirror_mode": {
    "name": "ipython",
    "version": 3
   },
   "file_extension": ".py",
   "mimetype": "text/x-python",
   "name": "python",
   "nbconvert_exporter": "python",
   "pygments_lexer": "ipython3",
   "version": "3.6.9"
  }
 },
 "nbformat": 4,
 "nbformat_minor": 4
}
