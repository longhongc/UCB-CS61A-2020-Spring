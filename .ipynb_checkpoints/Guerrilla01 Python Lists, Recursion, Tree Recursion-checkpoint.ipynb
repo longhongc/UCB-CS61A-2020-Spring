{
 "cells": [
  {
   "cell_type": "markdown",
   "metadata": {},
   "source": [
    "# 1. Lists, Recursion, Tree Recursion"
   ]
  },
  {
   "cell_type": "markdown",
   "metadata": {},
   "source": [
    "1.1 What would Python display?"
   ]
  },
  {
   "cell_type": "code",
   "execution_count": null,
   "metadata": {},
   "outputs": [],
   "source": [
    "lst = [1, 2, 3, 4, 5]"
   ]
  },
  {
   "cell_type": "code",
   "execution_count": 4,
   "metadata": {},
   "outputs": [
    {
     "data": {
      "text/plain": [
       "[2, 3]"
      ]
     },
     "execution_count": 4,
     "metadata": {},
     "output_type": "execute_result"
    }
   ],
   "source": [
    "lst[1:3]\n",
    "#[2, 3]"
   ]
  },
  {
   "cell_type": "code",
   "execution_count": 5,
   "metadata": {},
   "outputs": [
    {
     "data": {
      "text/plain": [
       "[1, 2, 3, 4, 5]"
      ]
     },
     "execution_count": 5,
     "metadata": {},
     "output_type": "execute_result"
    }
   ],
   "source": [
    "lst[0:len(lst)]\n",
    "#[1, 2, 3, 4, 5]"
   ]
  },
  {
   "cell_type": "code",
   "execution_count": 6,
   "metadata": {},
   "outputs": [
    {
     "data": {
      "text/plain": [
       "[2, 3, 4, 5]"
      ]
     },
     "execution_count": 6,
     "metadata": {},
     "output_type": "execute_result"
    }
   ],
   "source": [
    "lst[-4:]\n",
    "#[0, 1] wrong\n",
    "#[2, 3, 4, 5]"
   ]
  },
  {
   "cell_type": "code",
   "execution_count": 7,
   "metadata": {},
   "outputs": [
    {
     "data": {
      "text/plain": [
       "[4, 5]"
      ]
     },
     "execution_count": 7,
     "metadata": {},
     "output_type": "execute_result"
    }
   ],
   "source": [
    "lst[3:]\n",
    "#[4, 5]"
   ]
  },
  {
   "cell_type": "code",
   "execution_count": 8,
   "metadata": {},
   "outputs": [
    {
     "data": {
      "text/plain": [
       "[2, 4]"
      ]
     },
     "execution_count": 8,
     "metadata": {},
     "output_type": "execute_result"
    }
   ],
   "source": [
    "lst[1:4:2]\n",
    "#[2, 4]"
   ]
  },
  {
   "cell_type": "code",
   "execution_count": 9,
   "metadata": {},
   "outputs": [
    {
     "data": {
      "text/plain": [
       "[1, 3]"
      ]
     },
     "execution_count": 9,
     "metadata": {},
     "output_type": "execute_result"
    }
   ],
   "source": [
    "lst[:4:2]\n",
    "#[3, 5] wrong\n",
    "#[1, 3]"
   ]
  },
  {
   "cell_type": "code",
   "execution_count": 10,
   "metadata": {},
   "outputs": [
    {
     "data": {
      "text/plain": [
       "[2, 4]"
      ]
     },
     "execution_count": 10,
     "metadata": {},
     "output_type": "execute_result"
    }
   ],
   "source": [
    "lst[1::2]\n",
    "#[2, 4]"
   ]
  },
  {
   "cell_type": "code",
   "execution_count": 11,
   "metadata": {},
   "outputs": [
    {
     "data": {
      "text/plain": [
       "[5, 4, 3, 2, 1]"
      ]
     },
     "execution_count": 11,
     "metadata": {},
     "output_type": "execute_result"
    }
   ],
   "source": [
    "lst[::-1]\n",
    "#[5, 4, 3, 2, 1]"
   ]
  },
  {
   "cell_type": "code",
   "execution_count": 12,
   "metadata": {},
   "outputs": [
    {
     "ename": "TypeError",
     "evalue": "can only concatenate list (not \"int\") to list",
     "output_type": "error",
     "traceback": [
      "\u001b[0;31m---------------------------------------------------------------------------\u001b[0m",
      "\u001b[0;31mTypeError\u001b[0m                                 Traceback (most recent call last)",
      "\u001b[0;32m<ipython-input-12-914e250da527>\u001b[0m in \u001b[0;36m<module>\u001b[0;34m\u001b[0m\n\u001b[0;32m----> 1\u001b[0;31m \u001b[0mlst\u001b[0m \u001b[0;34m+\u001b[0m \u001b[0;36m100\u001b[0m\u001b[0;34m\u001b[0m\u001b[0;34m\u001b[0m\u001b[0m\n\u001b[0m\u001b[1;32m      2\u001b[0m \u001b[0;31m# error\u001b[0m\u001b[0;34m\u001b[0m\u001b[0;34m\u001b[0m\u001b[0;34m\u001b[0m\u001b[0m\n",
      "\u001b[0;31mTypeError\u001b[0m: can only concatenate list (not \"int\") to list"
     ]
    }
   ],
   "source": [
    "lst + 100\n",
    "# error"
   ]
  },
  {
   "cell_type": "code",
   "execution_count": 13,
   "metadata": {},
   "outputs": [
    {
     "data": {
      "text/plain": [
       "[1, 2, 3, 4, 5, [1], [2], [3]]"
      ]
     },
     "execution_count": 13,
     "metadata": {},
     "output_type": "execute_result"
    }
   ],
   "source": [
    "lst3 = [[1], [2], [3]]\n",
    "lst + lst3\n",
    "#[1, 2, 3, 4, 5, [1], [2], [3]]"
   ]
  },
  {
   "cell_type": "markdown",
   "metadata": {},
   "source": [
    "1.2 Draw the environment diagram that results from running the code below"
   ]
  },
  {
   "cell_type": "code",
   "execution_count": 14,
   "metadata": {},
   "outputs": [],
   "source": [
    "def reverse(lst):\n",
    "    if len(lst) <= 1:\n",
    "        return lst\n",
    "    return reverse(lst[1:]) + [lst[0]]\n",
    "lst = [1, [2, 3], 4]\n",
    "rev = reverse(lst)"
   ]
  },
  {
   "cell_type": "markdown",
   "metadata": {},
   "source": [
    "1.3 Implement a function map mut that takes a list as an argument and maps a function\n",
    "f onto each element of the list. You should mutate the original lists, without creating\n",
    "any new lists. Do NOT return anything."
   ]
  },
  {
   "cell_type": "code",
   "execution_count": 31,
   "metadata": {},
   "outputs": [],
   "source": [
    "def map_mut(f, L):\n",
    "    \"\"\"\n",
    "    >>> L = [1, 2, 3, 4]\n",
    "    >>> map_mut(lambda x: x**2, L)\n",
    "    >>> L\n",
    "    [1, 4, 9, 16]\n",
    "    \"\"\"\n",
    "    for i in range(len(L)):\n",
    "        L[i]=f(L[i])\n",
    "    return "
   ]
  },
  {
   "cell_type": "code",
   "execution_count": 32,
   "metadata": {},
   "outputs": [
    {
     "name": "stdout",
     "output_type": "stream",
     "text": [
      "Trying:\n",
      "    L = [1, 2, 3, 4]\n",
      "Expecting nothing\n",
      "ok\n",
      "Trying:\n",
      "    map_mut(lambda x: x**2, L)\n",
      "Expecting nothing\n",
      "ok\n",
      "Trying:\n",
      "    L\n",
      "Expecting:\n",
      "    [1, 4, 9, 16]\n",
      "ok\n",
      "2 items had no tests:\n",
      "    __main__\n",
      "    __main__.reverse\n",
      "1 items passed all tests:\n",
      "   3 tests in __main__.map_mut\n",
      "3 tests in 3 items.\n",
      "3 passed and 0 failed.\n",
      "Test passed.\n"
     ]
    },
    {
     "data": {
      "text/plain": [
       "TestResults(failed=0, attempted=3)"
      ]
     },
     "execution_count": 32,
     "metadata": {},
     "output_type": "execute_result"
    }
   ],
   "source": [
    "import doctest\n",
    "doctest.testmod(verbose=True)"
   ]
  },
  {
   "cell_type": "markdown",
   "metadata": {},
   "source": [
    "1.10 Consider an insect in an M by N grid. The insect starts at the bottom left corner,\n",
    "(0, 0), and wants to end up at the top right corner (M-1, N-1). The insect is only\n",
    "capable of moving right or up. Write a function paths that takes a grid length and\n",
    "width and returns the number of different paths the insect can take from the start\n",
    "to the goal. (There is a closed-form solution to this problem, but try to answer it\n",
    "procedurally using recursion.)\n"
   ]
  },
  {
   "cell_type": "code",
   "execution_count": 33,
   "metadata": {},
   "outputs": [],
   "source": [
    "def paths(m, n):\n",
    "    \"\"\"\n",
    "    >>> paths(2, 2)\n",
    "    2\n",
    "    >>> paths(117, 1)\n",
    "    1\n",
    "    \"\"\"\n",
    "    if m==1 or n==1:\n",
    "        return 1\n",
    "    return paths(m-1, n)+ paths(m, n-1)\n"
   ]
  },
  {
   "cell_type": "code",
   "execution_count": 34,
   "metadata": {},
   "outputs": [
    {
     "data": {
      "text/plain": [
       "2"
      ]
     },
     "execution_count": 34,
     "metadata": {},
     "output_type": "execute_result"
    }
   ],
   "source": [
    ">>> paths(2, 2)"
   ]
  },
  {
   "cell_type": "markdown",
   "metadata": {},
   "source": [
    "1.11 Write a procedure merge(s1, s2) which takes two sorted (smallest value first) lists\n",
    "and returns a single list with all of the elements of the two lists, in ascending order.\n",
    "Use recursion.\n",
    "Hint: If you can figure out which list has the smallest element out of both, then we\n",
    "know that the resulting merged list will have that smallest element, followed by the\n",
    "merge of the two lists with the smallest item removed. Don’t forget to handle the\n",
    "case where one list is empty!"
   ]
  },
  {
   "cell_type": "code",
   "execution_count": 38,
   "metadata": {},
   "outputs": [],
   "source": [
    "def merge(s1, s2):\n",
    "    \"\"\" Merges two sorted lists\n",
    "    >>> merge([1, 3], [2, 4])\n",
    "    [1, 2, 3, 4]\n",
    "    >>> merge([1, 2], [])\n",
    "    [1, 2]\n",
    "    \"\"\"\n",
    "    if len(s1)==0 or len(s2)==0:\n",
    "        return s1+s2\n",
    "    if s1[0] <= s2[0]:\n",
    "        if len(s1)==1:\n",
    "            return [s1[0]] + s2\n",
    "        return [s1[0]] + merge(s1[1:], s2)\n",
    "    else:\n",
    "        if len(s2)==1:\n",
    "            return [s2[0]] + s1\n",
    "        return [s2[0]] + merge(s1, s2[1:])\n"
   ]
  },
  {
   "cell_type": "code",
   "execution_count": 52,
   "metadata": {},
   "outputs": [],
   "source": [
    "def merge(s1, s2):\n",
    "    \"\"\" Merges two sorted lists\n",
    "    >>> merge([1, 3], [2, 4])\n",
    "    [1, 2, 3, 4]\n",
    "    >>> merge([1, 2], [])\n",
    "    [1, 2]\n",
    "    \"\"\"\n",
    "    if s1==[] or s2==[]:\n",
    "        return s1+s2\n",
    "    small = (s2, s1)[s1[0]<=s2[0]]\n",
    "    large = (s1, s2)[s1[0]<=s2[0]]\n",
    "    if len(small)==1:\n",
    "        return [small[0]] + large\n",
    "    return [small[0]] + merge(small[1:], large)"
   ]
  },
  {
   "cell_type": "code",
   "execution_count": 53,
   "metadata": {},
   "outputs": [
    {
     "name": "stdout",
     "output_type": "stream",
     "text": [
      "Trying:\n",
      "    L = [1, 2, 3, 4]\n",
      "Expecting nothing\n",
      "ok\n",
      "Trying:\n",
      "    map_mut(lambda x: x**2, L)\n",
      "Expecting nothing\n",
      "ok\n",
      "Trying:\n",
      "    L\n",
      "Expecting:\n",
      "    [1, 4, 9, 16]\n",
      "ok\n",
      "Trying:\n",
      "    merge([1, 3], [2, 4])\n",
      "Expecting:\n",
      "    [1, 2, 3, 4]\n",
      "ok\n",
      "Trying:\n",
      "    merge([1, 2], [])\n",
      "Expecting:\n",
      "    [1, 2]\n",
      "ok\n",
      "Trying:\n",
      "    paths(2, 2)\n",
      "Expecting:\n",
      "    2\n",
      "ok\n",
      "Trying:\n",
      "    paths(117, 1)\n",
      "Expecting:\n",
      "    1\n",
      "ok\n",
      "2 items had no tests:\n",
      "    __main__\n",
      "    __main__.reverse\n",
      "3 items passed all tests:\n",
      "   3 tests in __main__.map_mut\n",
      "   2 tests in __main__.merge\n",
      "   2 tests in __main__.paths\n",
      "7 tests in 5 items.\n",
      "7 passed and 0 failed.\n",
      "Test passed.\n"
     ]
    },
    {
     "data": {
      "text/plain": [
       "TestResults(failed=0, attempted=7)"
      ]
     },
     "execution_count": 53,
     "metadata": {},
     "output_type": "execute_result"
    }
   ],
   "source": [
    "doctest.testmod(verbose=True)"
   ]
  },
  {
   "cell_type": "code",
   "execution_count": 49,
   "metadata": {},
   "outputs": [
    {
     "name": "stdout",
     "output_type": "stream",
     "text": [
      "10\n"
     ]
    }
   ],
   "source": [
    "a, b = 10, 20\n",
    "print( (b, a) [a < b] )"
   ]
  },
  {
   "cell_type": "code",
   "execution_count": 55,
   "metadata": {},
   "outputs": [
    {
     "data": {
      "text/plain": [
       "2"
      ]
     },
     "execution_count": 55,
     "metadata": {},
     "output_type": "execute_result"
    }
   ],
   "source": [
    "a=[1,2,3]\n",
    "a[True]"
   ]
  },
  {
   "cell_type": "code",
   "execution_count": null,
   "metadata": {},
   "outputs": [],
   "source": []
  }
 ],
 "metadata": {
  "kernelspec": {
   "display_name": "Python 3",
   "language": "python",
   "name": "python3"
  },
  "language_info": {
   "codemirror_mode": {
    "name": "ipython",
    "version": 3
   },
   "file_extension": ".py",
   "mimetype": "text/x-python",
   "name": "python",
   "nbconvert_exporter": "python",
   "pygments_lexer": "ipython3",
   "version": "3.6.9"
  }
 },
 "nbformat": 4,
 "nbformat_minor": 4
}
