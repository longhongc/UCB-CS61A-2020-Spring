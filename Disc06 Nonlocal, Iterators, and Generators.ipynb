{
 "cells": [
  {
   "cell_type": "code",
   "execution_count": 4,
   "metadata": {},
   "outputs": [],
   "source": [
    "# 1.2\n",
    "def memory(n):\n",
    "    \"\"\"\n",
    "    >>> f = memory(10)\n",
    "    >>> f(lambda x: x * 2)\n",
    "    20\n",
    "    >>> f(lambda x: x - 7)\n",
    "    13\n",
    "    >>> f(lambda x: x > 5)\n",
    "    True\n",
    "    \"\"\"\n",
    "    def adjust(f):\n",
    "        nonlocal n\n",
    "        n=f(n)\n",
    "        return n\n",
    "    return adjust "
   ]
  },
  {
   "cell_type": "code",
   "execution_count": 5,
   "metadata": {},
   "outputs": [
    {
     "name": "stdout",
     "output_type": "stream",
     "text": [
      "Trying:\n",
      "    f = memory(10)\n",
      "Expecting nothing\n",
      "ok\n",
      "Trying:\n",
      "    f(lambda x: x * 2)\n",
      "Expecting:\n",
      "    20\n",
      "ok\n",
      "Trying:\n",
      "    f(lambda x: x - 7)\n",
      "Expecting:\n",
      "    13\n",
      "ok\n",
      "Trying:\n",
      "    f(lambda x: x > 5)\n",
      "Expecting:\n",
      "    True\n",
      "ok\n",
      "1 items had no tests:\n",
      "    __main__\n",
      "1 items passed all tests:\n",
      "   4 tests in __main__.memory\n",
      "4 tests in 2 items.\n",
      "4 passed and 0 failed.\n",
      "Test passed.\n"
     ]
    },
    {
     "data": {
      "text/plain": [
       "TestResults(failed=0, attempted=4)"
      ]
     },
     "execution_count": 5,
     "metadata": {},
     "output_type": "execute_result"
    }
   ],
   "source": [
    "import doctest\n",
    "doctest.testmod(verbose = True)"
   ]
  },
  {
   "cell_type": "code",
   "execution_count": 101,
   "metadata": {},
   "outputs": [],
   "source": [
    "#1.3\n",
    "def nonlocalist():\n",
    "    \"\"\"\n",
    "    >>> prepend, get = nonlocalist()\n",
    "    >>> prepend(2)\n",
    "    >>> prepend(3)\n",
    "    >>> prepend(4)\n",
    "    >>> get(0)\n",
    "    4\n",
    "    >>> get(1)\n",
    "    3\n",
    "    >>> get(2)\n",
    "    2\n",
    "    >>> prepend(8)\n",
    "    >>> get(2)\n",
    "    3\n",
    "    \"\"\"\n",
    "    get = lambda x: \"Index out of range!\"\n",
    "    def prepend(value):\n",
    "        nonlocal get\n",
    "        f = get\n",
    "        def get(i):\n",
    "            if i == 0:\n",
    "                return value\n",
    "            return f(i-1)\n",
    "    return prepend, lambda x: get(x)"
   ]
  },
  {
   "cell_type": "code",
   "execution_count": 113,
   "metadata": {},
   "outputs": [
    {
     "ename": "TypeError",
     "evalue": "'list' object is not an iterator",
     "output_type": "error",
     "traceback": [
      "\u001b[0;31m---------------------------------------------------------------------------\u001b[0m",
      "\u001b[0;31mTypeError\u001b[0m                                 Traceback (most recent call last)",
      "\u001b[0;32m<ipython-input-113-cfa730961880>\u001b[0m in \u001b[0;36m<module>\u001b[0;34m\u001b[0m\n\u001b[1;32m      1\u001b[0m \u001b[0;31m#2.1\u001b[0m\u001b[0;34m\u001b[0m\u001b[0;34m\u001b[0m\u001b[0;34m\u001b[0m\u001b[0m\n\u001b[1;32m      2\u001b[0m \u001b[0mlst\u001b[0m \u001b[0;34m=\u001b[0m \u001b[0;34m[\u001b[0m\u001b[0;36m6\u001b[0m\u001b[0;34m,\u001b[0m \u001b[0;36m1\u001b[0m\u001b[0;34m,\u001b[0m \u001b[0;34m\"a\"\u001b[0m\u001b[0;34m]\u001b[0m\u001b[0;34m\u001b[0m\u001b[0;34m\u001b[0m\u001b[0m\n\u001b[0;32m----> 3\u001b[0;31m \u001b[0mnext\u001b[0m\u001b[0;34m(\u001b[0m\u001b[0mlst\u001b[0m\u001b[0;34m)\u001b[0m\u001b[0;34m\u001b[0m\u001b[0;34m\u001b[0m\u001b[0m\n\u001b[0m\u001b[1;32m      4\u001b[0m \u001b[0;31m# error not iterable\u001b[0m\u001b[0;34m\u001b[0m\u001b[0;34m\u001b[0m\u001b[0;34m\u001b[0m\u001b[0m\n",
      "\u001b[0;31mTypeError\u001b[0m: 'list' object is not an iterator"
     ]
    }
   ],
   "source": [
    "#2.1\n",
    ">>> lst = [6, 1, \"a\"]\n",
    ">>> next(lst)\n",
    "# error not iterable"
   ]
  },
  {
   "cell_type": "code",
   "execution_count": 114,
   "metadata": {},
   "outputs": [
    {
     "data": {
      "text/plain": [
       "6"
      ]
     },
     "execution_count": 114,
     "metadata": {},
     "output_type": "execute_result"
    }
   ],
   "source": [
    ">>> lst_iter = iter(lst)\n",
    ">>> next(lst_iter)\n",
    "# 6"
   ]
  },
  {
   "cell_type": "code",
   "execution_count": 115,
   "metadata": {},
   "outputs": [
    {
     "data": {
      "text/plain": [
       "1"
      ]
     },
     "execution_count": 115,
     "metadata": {},
     "output_type": "execute_result"
    }
   ],
   "source": [
    ">>> next(lst_iter)\n",
    "# 1"
   ]
  },
  {
   "cell_type": "code",
   "execution_count": 116,
   "metadata": {},
   "outputs": [
    {
     "data": {
      "text/plain": [
       "6"
      ]
     },
     "execution_count": 116,
     "metadata": {},
     "output_type": "execute_result"
    }
   ],
   "source": [
    ">>> next(iter(lst))\n",
    "# 6"
   ]
  },
  {
   "cell_type": "code",
   "execution_count": 117,
   "metadata": {},
   "outputs": [
    {
     "data": {
      "text/plain": [
       "['a']"
      ]
     },
     "execution_count": 117,
     "metadata": {},
     "output_type": "execute_result"
    }
   ],
   "source": [
    ">>> [x for x in lst_iter]\n",
    "# 'a'"
   ]
  },
  {
   "cell_type": "code",
   "execution_count": 119,
   "metadata": {},
   "outputs": [],
   "source": [
    "#2.1\n",
    "def merge(a, b):\n",
    "    \"\"\"\n",
    "    >>> def sequence(start, step):\n",
    "    ...     while True:\n",
    "    ...         yield start\n",
    "    ...         start += step\n",
    "    >>> a = sequence(2, 3) # 2, 5, 8, 11, 14, ...\n",
    "    >>> b = sequence(3, 2) # 3, 5, 7, 9, 11, 13, 15, ...\n",
    "    >>> result = merge(a, b) # 2, 3, 5, 7, 8, 9, 11, 13, 14, 15\n",
    "    >>> [next(result) for _ in range(10)]\n",
    "    [2, 3, 5, 7, 8, 9, 11, 13, 14, 15]\n",
    "    \"\"\"\n",
    "    x=next(a)\n",
    "    y=next(b)\n",
    "    while True:   \n",
    "        if x<y:\n",
    "            yield x\n",
    "            x=next(a)\n",
    "        elif x==y:\n",
    "            yield x\n",
    "            x=next(a)\n",
    "            y=next(b)\n",
    "        else:\n",
    "            yield y\n",
    "            y=next(b)"
   ]
  },
  {
   "cell_type": "code",
   "execution_count": 120,
   "metadata": {},
   "outputs": [
    {
     "name": "stdout",
     "output_type": "stream",
     "text": [
      "Trying:\n",
      "    f = memory(10)\n",
      "Expecting nothing\n",
      "ok\n",
      "Trying:\n",
      "    f(lambda x: x * 2)\n",
      "Expecting:\n",
      "    20\n",
      "ok\n",
      "Trying:\n",
      "    f(lambda x: x - 7)\n",
      "Expecting:\n",
      "    13\n",
      "ok\n",
      "Trying:\n",
      "    f(lambda x: x > 5)\n",
      "Expecting:\n",
      "    True\n",
      "ok\n",
      "Trying:\n",
      "    def sequence(start, step):\n",
      "        while True:\n",
      "            yield start\n",
      "            start += step\n",
      "Expecting nothing\n",
      "ok\n",
      "Trying:\n",
      "    a = sequence(2, 3) # 2, 5, 8, 11, 14, ...\n",
      "Expecting nothing\n",
      "ok\n",
      "Trying:\n",
      "    b = sequence(3, 2) # 3, 5, 7, 9, 11, 13, 15, ...\n",
      "Expecting nothing\n",
      "ok\n",
      "Trying:\n",
      "    result = merge(a, b) # 2, 3, 5, 7, 8, 9, 11, 13, 14, 15\n",
      "Expecting nothing\n",
      "ok\n",
      "Trying:\n",
      "    [next(result) for _ in range(10)]\n",
      "Expecting:\n",
      "    [2, 3, 5, 7, 8, 9, 11, 13, 14, 15]\n",
      "ok\n",
      "Trying:\n",
      "    prepend, get = nonlocalist()\n",
      "Expecting nothing\n",
      "ok\n",
      "Trying:\n",
      "    prepend(2)\n",
      "Expecting nothing\n",
      "ok\n",
      "Trying:\n",
      "    prepend(3)\n",
      "Expecting nothing\n",
      "ok\n",
      "Trying:\n",
      "    prepend(4)\n",
      "Expecting nothing\n",
      "ok\n",
      "Trying:\n",
      "    get(0)\n",
      "Expecting:\n",
      "    4\n",
      "ok\n",
      "Trying:\n",
      "    get(1)\n",
      "Expecting:\n",
      "    3\n",
      "ok\n",
      "Trying:\n",
      "    get(2)\n",
      "Expecting:\n",
      "    2\n",
      "ok\n",
      "Trying:\n",
      "    prepend(8)\n",
      "Expecting nothing\n",
      "ok\n",
      "Trying:\n",
      "    get(2)\n",
      "Expecting:\n",
      "    3\n",
      "ok\n",
      "30 items had no tests:\n",
      "    __main__\n",
      "    __main__._14\n",
      "    __main__._16\n",
      "    __main__._17\n",
      "    __main__._20\n",
      "    __main__._21\n",
      "    __main__._23\n",
      "    __main__._24\n",
      "    __main__._31\n",
      "    __main__._34\n",
      "    __main__._38\n",
      "    __main__._42\n",
      "    __main__._54\n",
      "    __main__._55\n",
      "    __main__._56\n",
      "    __main__._59\n",
      "    __main__._64\n",
      "    __main__._65\n",
      "    __main__._68\n",
      "    __main__._76\n",
      "    __main__._84\n",
      "    __main__._89\n",
      "    __main__._95\n",
      "    __main__.b\n",
      "    __main__.c\n",
      "    __main__.g1\n",
      "    __main__.g3\n",
      "    __main__.get\n",
      "    __main__.prepend\n",
      "    __main__.test\n",
      "3 items passed all tests:\n",
      "   4 tests in __main__.memory\n",
      "   5 tests in __main__.merge\n",
      "   9 tests in __main__.nonlocalist\n",
      "18 tests in 33 items.\n",
      "18 passed and 0 failed.\n",
      "Test passed.\n"
     ]
    },
    {
     "data": {
      "text/plain": [
       "TestResults(failed=0, attempted=18)"
      ]
     },
     "execution_count": 120,
     "metadata": {},
     "output_type": "execute_result"
    }
   ],
   "source": [
    "doctest.testmod(verbose = True)"
   ]
  },
  {
   "cell_type": "code",
   "execution_count": 122,
   "metadata": {},
   "outputs": [],
   "source": [
    "#2.2\n",
    "def generate_subsets():\n",
    "    \"\"\"\n",
    "    >>> subsets = generate_subsets()\n",
    "    >>> for _ in range(3):\n",
    "    ... print(next(subsets))\n",
    "    ...\n",
    "    [[]]\n",
    "    [[], [1]]\n",
    "    [[], [1], [2], [1, 2]]\n",
    "    \"\"\"\n",
    "    def subsets(m):\n",
    "        if m==0:\n",
    "            return [[]]\n",
    "        return subsets(m-1)+[n+[m] for n in subsets(m-1)]\n",
    "    count=0\n",
    "    while True:\n",
    "        yield subsets(count)\n",
    "        count+=1   "
   ]
  },
  {
   "cell_type": "code",
   "execution_count": 123,
   "metadata": {},
   "outputs": [
    {
     "name": "stdout",
     "output_type": "stream",
     "text": [
      "[[]]\n",
      "[[], [1]]\n",
      "[[], [1], [2], [1, 2]]\n"
     ]
    }
   ],
   "source": [
    "subsets = generate_subsets()\n",
    "for _ in range(3):\n",
    "    print(next(subsets))"
   ]
  },
  {
   "cell_type": "code",
   "execution_count": 131,
   "metadata": {},
   "outputs": [],
   "source": [
    "def tree(label, branches=[]):\n",
    "    for branch in branches:\n",
    "        assert is_tree(branch)\n",
    "    return [label] + list(branches)\n",
    "def label(tree):\n",
    "    return tree[0]\n",
    "def branches(tree):\n",
    "    return tree[1:]\n",
    "def is_tree(tree):\n",
    "    if type(tree) != list or len(tree)<1:\n",
    "        return False\n",
    "    for branch in branches(tree):\n",
    "        if not is_tree(branch):\n",
    "            return False\n",
    "    return True\n",
    "def is_leaf(tree):\n",
    "    return not branches(tree)"
   ]
  },
  {
   "cell_type": "code",
   "execution_count": 136,
   "metadata": {},
   "outputs": [],
   "source": [
    "#2.3\n",
    "def sum_paths_gen(t):\n",
    "    \"\"\"\n",
    "    >>> t1 = tree(5)\n",
    "    >>> next(sum_paths_gen(t1))\n",
    "    5\n",
    "    >>> t2 = tree(1, [tree(2, [tree(3), tree(4)]), tree(9)])\n",
    "    >>> sorted(sum_paths_gen(t2))\n",
    "    [6, 7, 10]\n",
    "    \"\"\"\n",
    "    if is_leaf(t):\n",
    "        yield label(t)\n",
    "    for branch in branches(t):\n",
    "        for _ in sum_paths_gen(branch):\n",
    "            yield label(t)+_"
   ]
  },
  {
   "cell_type": "code",
   "execution_count": 134,
   "metadata": {},
   "outputs": [
    {
     "data": {
      "text/plain": [
       "5"
      ]
     },
     "execution_count": 134,
     "metadata": {},
     "output_type": "execute_result"
    }
   ],
   "source": [
    "t1 = tree(5)\n",
    "next(sum_paths_gen(t1))"
   ]
  },
  {
   "cell_type": "code",
   "execution_count": 137,
   "metadata": {},
   "outputs": [
    {
     "data": {
      "text/plain": [
       "[6, 7, 10]"
      ]
     },
     "execution_count": 137,
     "metadata": {},
     "output_type": "execute_result"
    }
   ],
   "source": [
    "t2 = tree(1, [tree(2, [tree(3), tree(4)]), tree(9)])\n",
    "sorted(sum_paths_gen(t2))"
   ]
  },
  {
   "cell_type": "code",
   "execution_count": 150,
   "metadata": {},
   "outputs": [],
   "source": [
    "def collect_words(t):\n",
    "    \"\"\"Return a list of all the words contained in the tree where the value of each node in\n",
    "    the tree is an individual letter. Words terminate at the leaf of a tree.\n",
    "    >>> collect_words(greetings)\n",
    "    ['hi', 'hello', 'hey']\n",
    "    \"\"\"\n",
    "    if is_leaf(t):\n",
    "        return label(t)\n",
    "    words = []\n",
    "    for branch in branches(t):\n",
    "        words += [label(t) + w for w in collect_words(branch)]\n",
    "    return words"
   ]
  },
  {
   "cell_type": "code",
   "execution_count": 151,
   "metadata": {},
   "outputs": [],
   "source": [
    "greetings = tree('h', [tree('i'),\n",
    "                      tree('e', [tree('l', [tree('l', [tree('o')])]),\n",
    "                                 tree('y')])])"
   ]
  },
  {
   "cell_type": "code",
   "execution_count": 152,
   "metadata": {},
   "outputs": [
    {
     "data": {
      "text/plain": [
       "['hi', 'hello', 'hey']"
      ]
     },
     "execution_count": 152,
     "metadata": {},
     "output_type": "execute_result"
    }
   ],
   "source": [
    "collect_words(greetings)"
   ]
  },
  {
   "cell_type": "code",
   "execution_count": null,
   "metadata": {},
   "outputs": [],
   "source": []
  }
 ],
 "metadata": {
  "kernelspec": {
   "display_name": "Python 3",
   "language": "python",
   "name": "python3"
  },
  "language_info": {
   "codemirror_mode": {
    "name": "ipython",
    "version": 3
   },
   "file_extension": ".py",
   "mimetype": "text/x-python",
   "name": "python",
   "nbconvert_exporter": "python",
   "pygments_lexer": "ipython3",
   "version": "3.6.9"
  }
 },
 "nbformat": 4,
 "nbformat_minor": 4
}
