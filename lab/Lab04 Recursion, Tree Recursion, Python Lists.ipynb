{
 "cells": [
  {
   "cell_type": "markdown",
   "metadata": {},
   "source": [
    "# Q1: List Indexing"
   ]
  },
  {
   "cell_type": "code",
   "execution_count": 4,
   "metadata": {},
   "outputs": [
    {
     "data": {
      "text/plain": [
       "7"
      ]
     },
     "execution_count": 4,
     "metadata": {},
     "output_type": "execute_result"
    }
   ],
   "source": [
    ">>> x = [1, 3, [5, 7], 9]\n",
    "x[2][1]"
   ]
  },
  {
   "cell_type": "code",
   "execution_count": 3,
   "metadata": {},
   "outputs": [
    {
     "data": {
      "text/plain": [
       "7"
      ]
     },
     "execution_count": 3,
     "metadata": {},
     "output_type": "execute_result"
    }
   ],
   "source": [
    ">>> x = [[3, [5, 7], 9]]\n",
    "x[0][1][1]"
   ]
  },
  {
   "cell_type": "code",
   "execution_count": 6,
   "metadata": {},
   "outputs": [
    {
     "data": {
      "text/plain": [
       "84"
      ]
     },
     "execution_count": 6,
     "metadata": {},
     "output_type": "execute_result"
    }
   ],
   "source": [
    ">>> lst = [3, 2, 7, [84, 83, 82]]\n",
    "#>>> lst[4]\n",
    "# None\n",
    "# list index out of range\n",
    ">>> lst[3][0]\n",
    "#84"
   ]
  },
  {
   "cell_type": "markdown",
   "metadata": {},
   "source": [
    "# Q2: Skip Add\n",
    "Write a function skip_add that takes a single argument n and computes the sum of every other integer between 0 and n. Assume n is non-negative."
   ]
  },
  {
   "cell_type": "code",
   "execution_count": 9,
   "metadata": {},
   "outputs": [],
   "source": [
    "def skip_add(n):\n",
    "    \"\"\" Takes a number n and returns n + n-2 + n-4 + n-6 + ... + 0.\n",
    "\n",
    "    >>> skip_add(5)  # 5 + 3 + 1 + 0\n",
    "    9\n",
    "    >>> skip_add(10) # 10 + 8 + 6 + 4 + 2 + 0\n",
    "    30\n",
    "    >>> # Do not use while/for loops!\n",
    "    >>> from construct_check import check\n",
    "    >>> # ban iteration\n",
    "    >>> check(this_file, 'skip_add',\n",
    "    ...       ['While', 'For'])\n",
    "    True\n",
    "    \"\"\"\n",
    "    \"*** YOUR CODE HERE ***\"\n",
    "    if n < 0:\n",
    "        return 0\n",
    "    #print(n)\n",
    "    return n+skip_add(n-2)\n",
    "    "
   ]
  },
  {
   "cell_type": "code",
   "execution_count": 10,
   "metadata": {},
   "outputs": [
    {
     "data": {
      "text/plain": [
       "9"
      ]
     },
     "execution_count": 10,
     "metadata": {},
     "output_type": "execute_result"
    }
   ],
   "source": [
    "skip_add(5)"
   ]
  },
  {
   "cell_type": "markdown",
   "metadata": {},
   "source": [
    "# Q3: Summation\n",
    "Now, write a recursive implementation of summation, which takes a positive integer n and a function term. It applies term to every number from 1 to n including n and returns the sum of the results."
   ]
  },
  {
   "cell_type": "code",
   "execution_count": 13,
   "metadata": {},
   "outputs": [],
   "source": [
    "def summation(n, term):\n",
    "\n",
    "    \"\"\"Return the sum of the first n terms in the sequence defined by term.\n",
    "    Implement using recursion!\n",
    "\n",
    "    >>> summation(5, lambda x: x * x * x) # 1^3 + 2^3 + 3^3 + 4^3 + 5^3\n",
    "    225\n",
    "    >>> summation(9, lambda x: x + 1) # 2 + 3 + 4 + 5 + 6 + 7 + 8 + 9 + 10\n",
    "    54\n",
    "    >>> summation(5, lambda x: 2**x) # 2^1 + 2^2 + 2^3 + 2^4 + 2^5\n",
    "    62\n",
    "    >>> # Do not use while/for loops!\n",
    "    >>> from construct_check import check\n",
    "    >>> # ban iteration\n",
    "    >>> check(this_file, 'summation',\n",
    "    ...       ['While', 'For'])\n",
    "    True\n",
    "    \"\"\"\n",
    "    if n == 1:\n",
    "        return term(1)\n",
    "    assert n >= 1\n",
    "    \"*** YOUR CODE HERE ***\"\n",
    "    return summation(n-1, term)+term(n)"
   ]
  },
  {
   "cell_type": "code",
   "execution_count": 14,
   "metadata": {},
   "outputs": [
    {
     "data": {
      "text/plain": [
       "225"
      ]
     },
     "execution_count": 14,
     "metadata": {},
     "output_type": "execute_result"
    }
   ],
   "source": [
    "summation(5, lambda x: x * x * x)"
   ]
  },
  {
   "cell_type": "markdown",
   "metadata": {},
   "source": [
    "# Q4: Insect Combinatorics\n",
    "Consider an insect in an M by N grid. The insect starts at the bottom left corner, (0, 0), and wants to end up at the top right corner, (M-1, N-1). The insect is only capable of moving right or up. Write a function paths that takes a grid length and width and returns the number of different paths the insect can take from the start to the goal. (There is a closed-form solution to this problem, but try to answer it procedurally using recursion.)"
   ]
  },
  {
   "cell_type": "code",
   "execution_count": 15,
   "metadata": {},
   "outputs": [],
   "source": [
    "def paths(m, n):\n",
    "    \"\"\"Return the number of paths from one corner of an\n",
    "    M by N grid to the opposite corner.\n",
    "\n",
    "    >>> paths(2, 2)\n",
    "    2\n",
    "    >>> paths(5, 7)\n",
    "    210\n",
    "    >>> paths(117, 1)\n",
    "    1\n",
    "    >>> paths(1, 157)\n",
    "    1\n",
    "    \"\"\"\n",
    "    \"*** YOUR CODE HERE ***\"\n",
    "    if 1 in (m, n):\n",
    "        return 1\n",
    "    return paths(m-1,n)+paths(m, n-1)"
   ]
  },
  {
   "cell_type": "code",
   "execution_count": 17,
   "metadata": {},
   "outputs": [
    {
     "data": {
      "text/plain": [
       "210"
      ]
     },
     "execution_count": 17,
     "metadata": {},
     "output_type": "execute_result"
    }
   ],
   "source": [
    "paths(5, 7)"
   ]
  },
  {
   "cell_type": "markdown",
   "metadata": {},
   "source": [
    "# Q5: Macimum Subsequence\n",
    "A subsequence of a number is a series of (not necessarily contiguous) digits of the number. For example, 12345 has subsequences that include 123, 234, 124, 245, etc. Your task is to get the maximum subsequence below a certain length."
   ]
  },
  {
   "cell_type": "code",
   "execution_count": 45,
   "metadata": {},
   "outputs": [],
   "source": [
    "def max_subseq(n, t):\n",
    "    \"\"\"\n",
    "    Return the maximum subsequence of length at most t that can be found in the given number n.\n",
    "    For example, for n = 20125 and t = 3, we have that the subsequences are\n",
    "        2\n",
    "        0\n",
    "        1\n",
    "        2\n",
    "        5\n",
    "        20\n",
    "        21\n",
    "        22\n",
    "        25\n",
    "        01\n",
    "        02\n",
    "        05\n",
    "        12\n",
    "        15\n",
    "        25\n",
    "        201\n",
    "        202\n",
    "        205\n",
    "        212\n",
    "        215\n",
    "        225\n",
    "        012\n",
    "        015\n",
    "        025\n",
    "        125\n",
    "    and of these, the maxumum number is 225, so our answer is 225.\n",
    "\n",
    "    >>> max_subseq(20125, 3)\n",
    "    225\n",
    "    >>> max_subseq(20125, 5)\n",
    "    20125\n",
    "    >>> max_subseq(20125, 6) # note that 20125 == 020125\n",
    "    20125\n",
    "    >>> max_subseq(12345, 3)\n",
    "    345\n",
    "    >>> max_subseq(12345, 0) # 0 is of length 0\n",
    "    0\n",
    "    >>> max_subseq(12345, 1)\n",
    "    5\n",
    "    \"\"\"\n",
    "    \"*** YOUR CODE HERE ***\"\n",
    "    if n//10==0:\n",
    "        return n\n",
    "    nums = [int(i) for i in str(n)]\n",
    "    if t==1:\n",
    "        return max(nums)\n",
    "    if t==0:\n",
    "        return 0\n",
    "    if len(nums) < t:\n",
    "        return n\n",
    "    \n",
    "    return max(max_subseq(n//10, t-1)*10 + n%10, max_subseq(n//10, t))"
   ]
  },
  {
   "cell_type": "code",
   "execution_count": 46,
   "metadata": {},
   "outputs": [
    {
     "data": {
      "text/plain": [
       "20125"
      ]
     },
     "execution_count": 46,
     "metadata": {},
     "output_type": "execute_result"
    }
   ],
   "source": [
    "max_subseq(20125, 5)"
   ]
  },
  {
   "cell_type": "markdown",
   "metadata": {},
   "source": [
    "# Q6: Add Characters\n",
    "Given two words, w1 and w2, we say w1 is a subsequence of w2 if all the letters in w1 appear in w2 in the same order (but not necessarily all together). That is, you can add letters to any position in w1 to get w2. For example, \"sing\" is a substring of \"absorbing\" and \"cat\" is a substring of \"contrast\".\n",
    "\n",
    "Implement add_chars, which takes in w1 and w2, where w1 is a substring of w2. This means that w1 is shorter than w2. It should return a string containing the characters you need to add to w1 to get w2. Your solution must use recursion.\n",
    "\n",
    "In the example above, you need to add the characters \"aborb\" to \"sing\" to get \"absorbing\", and you need to add \"ontrs\" to \"cat\" to get \"contrast\".\n",
    "\n",
    "The letters in the string you return should be in the order you have to add them from left to right. If there are multiple characters in the w2 that could correspond to characters in w1, use the leftmost one. For example, add_words(\"coy\", \"cacophony\") should return \"acphon\", not \"caphon\" because the first \"c\" in \"coy\" corresponds to the first \"c\" in \"cacophony\"."
   ]
  },
  {
   "cell_type": "code",
   "execution_count": 60,
   "metadata": {},
   "outputs": [],
   "source": [
    "def add_chars(w1, w2):\n",
    "    \"\"\"\n",
    "    Return a string containing the characters you need to add to w1 to get w2.\n",
    "\n",
    "    You may assume that w1 is a subsequence of w2.\n",
    "\n",
    "    >>> add_chars(\"owl\", \"howl\")\n",
    "    'h'\n",
    "    >>> add_chars(\"want\", \"wanton\")\n",
    "    'on'\n",
    "    >>> add_chars(\"rat\", \"radiate\")\n",
    "    'diae'\n",
    "    >>> add_chars(\"a\", \"prepare\")\n",
    "    'prepre'\n",
    "    >>> add_chars(\"resin\", \"recursion\")\n",
    "    'curo'\n",
    "    >>> add_chars(\"fin\", \"effusion\")\n",
    "    'efuso'\n",
    "    >>> add_chars(\"coy\", \"cacophony\")\n",
    "    'acphon'\n",
    "    >>> from construct_check import check\n",
    "    >>> # ban iteration and sets\n",
    "    >>> check(LAB_SOURCE_FILE, 'add_chars',\n",
    "    ...       ['For', 'While', 'Set', 'SetComp']) # Must use recursion\n",
    "    True\n",
    "    \"\"\"\n",
    "    \"*** YOUR CODE HERE ***\"  \n",
    "    print(w2)\n",
    "    if w1 == w2:\n",
    "        return \"\"\n",
    "    \n",
    "    if w2[0] in w1:\n",
    "        w1 = w1[1:]\n",
    "        return add_chars(w1, w2[1:])\n",
    "    \n",
    "    return w2[0]+add_chars(w1, w2[1:])\n"
   ]
  },
  {
   "cell_type": "code",
   "execution_count": 62,
   "metadata": {},
   "outputs": [
    {
     "name": "stdout",
     "output_type": "stream",
     "text": [
      "prepare\n",
      "repare\n",
      "epare\n",
      "pare\n",
      "are\n",
      "re\n",
      "e\n",
      "\n"
     ]
    },
    {
     "data": {
      "text/plain": [
       "'prepre'"
      ]
     },
     "execution_count": 62,
     "metadata": {},
     "output_type": "execute_result"
    }
   ],
   "source": [
    "add_chars(\"a\", \"prepare\")"
   ]
  },
  {
   "cell_type": "code",
   "execution_count": null,
   "metadata": {},
   "outputs": [],
   "source": []
  }
 ],
 "metadata": {
  "kernelspec": {
   "display_name": "Python 3",
   "language": "python",
   "name": "python3"
  },
  "language_info": {
   "codemirror_mode": {
    "name": "ipython",
    "version": 3
   },
   "file_extension": ".py",
   "mimetype": "text/x-python",
   "name": "python",
   "nbconvert_exporter": "python",
   "pygments_lexer": "ipython3",
   "version": "3.6.9"
  }
 },
 "nbformat": 4,
 "nbformat_minor": 4
}
