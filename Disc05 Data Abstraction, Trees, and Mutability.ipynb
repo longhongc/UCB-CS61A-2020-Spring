{
 "cells": [
  {
   "cell_type": "code",
   "execution_count": 43,
   "metadata": {},
   "outputs": [],
   "source": [
    "def tree(label, branches=[]):\n",
    "    for branch in branches:\n",
    "        assert is_tree(branch), 'branches must be trees'\n",
    "    return [label] + list(branches)"
   ]
  },
  {
   "cell_type": "code",
   "execution_count": 44,
   "metadata": {},
   "outputs": [],
   "source": [
    "def label(tree):\n",
    "    return tree[0]"
   ]
  },
  {
   "cell_type": "code",
   "execution_count": 45,
   "metadata": {},
   "outputs": [],
   "source": [
    "def branches(tree):\n",
    "    return tree[1:]"
   ]
  },
  {
   "cell_type": "code",
   "execution_count": 46,
   "metadata": {},
   "outputs": [],
   "source": [
    "def is_tree(tree):\n",
    "    if type(tree) != list or len(tree) < 1:\n",
    "        return False\n",
    "    for branch in branches(tree):\n",
    "        if not is_tree(branch):\n",
    "            return False\n",
    "    return True"
   ]
  },
  {
   "cell_type": "code",
   "execution_count": 47,
   "metadata": {},
   "outputs": [],
   "source": [
    "def is_leaf(tree):\n",
    "    return not branches(tree)"
   ]
  },
  {
   "cell_type": "code",
   "execution_count": 61,
   "metadata": {},
   "outputs": [],
   "source": [
    "def print_tree(t, indent=0):\n",
    "    print(' ' * indent+str(label(t)))\n",
    "    for b in branches(t):\n",
    "        print_tree(b, indent + 1)"
   ]
  },
  {
   "cell_type": "code",
   "execution_count": 53,
   "metadata": {},
   "outputs": [],
   "source": [
    "# 1.1\n",
    "def height(t):\n",
    "    \"\"\"\n",
    "    >>> t = tree(3, [tree(5, [tree(1)]), tree(2)])\n",
    "    >>> height(t)\n",
    "    2\n",
    "    \"\"\"\n",
    "    if is_leaf(t):\n",
    "        return 0\n",
    "    \n",
    "    return max([(height(branch)+1) for branch in branches(t)])     "
   ]
  },
  {
   "cell_type": "code",
   "execution_count": 57,
   "metadata": {},
   "outputs": [
    {
     "data": {
      "text/plain": [
       "2"
      ]
     },
     "execution_count": 57,
     "metadata": {},
     "output_type": "execute_result"
    }
   ],
   "source": [
    "t = tree(3, [tree(5, [tree(1)]), tree(2, [tree(4)])])\n",
    "height(t)"
   ]
  },
  {
   "cell_type": "code",
   "execution_count": 59,
   "metadata": {},
   "outputs": [],
   "source": [
    "# 1.2\n",
    "def square_tree(t):\n",
    "    if is_leaf(t):\n",
    "        return tree(label(t)**2, [])\n",
    "    return tree(label(t)**2, [square_tree(branch) for branch in branches(t)])"
   ]
  },
  {
   "cell_type": "code",
   "execution_count": 62,
   "metadata": {},
   "outputs": [
    {
     "name": "stdout",
     "output_type": "stream",
     "text": [
      "1\n",
      " 4\n",
      "  9\n",
      "  16\n",
      " 25\n",
      "  36\n",
      "   49\n",
      "  64\n"
     ]
    }
   ],
   "source": [
    "numbers = tree(1,[tree(2,[tree(3), tree(4)]), tree(5, [tree(6, [tree(7)]), tree(8)])])\n",
    "print_tree(square_tree(numbers))"
   ]
  },
  {
   "cell_type": "code",
   "execution_count": 94,
   "metadata": {},
   "outputs": [],
   "source": [
    "# 1.3\n",
    "def find_path(tree, x):\n",
    "    if label(tree)==x:\n",
    "        return [x]\n",
    "    for branch in branches(tree):\n",
    "        #print(label(tree))\n",
    "        path = find_path(branch, x)\n",
    "        #print(path)\n",
    "        if path != None:\n",
    "            return [label(tree)] + path"
   ]
  },
  {
   "cell_type": "code",
   "execution_count": 95,
   "metadata": {},
   "outputs": [
    {
     "data": {
      "text/plain": [
       "[2, 7, 6, 5]"
      ]
     },
     "execution_count": 95,
     "metadata": {},
     "output_type": "execute_result"
    }
   ],
   "source": [
    "t = tree(2, [tree(7, [tree(3), tree(6, [tree(5), tree(11)])] ), tree(15)])\n",
    "find_path(t, 5)"
   ]
  },
  {
   "cell_type": "code",
   "execution_count": 96,
   "metadata": {},
   "outputs": [
    {
     "data": {
      "text/plain": [
       "True"
      ]
     },
     "execution_count": 96,
     "metadata": {},
     "output_type": "execute_result"
    }
   ],
   "source": [
    "# 2.1\n",
    ">>> lst1 = [1, 2, 3]\n",
    ">>> lst2 = lst1\n",
    ">>> lst1 is lst2\n",
    "# True"
   ]
  },
  {
   "cell_type": "code",
   "execution_count": 97,
   "metadata": {},
   "outputs": [
    {
     "data": {
      "text/plain": [
       "6"
      ]
     },
     "execution_count": 97,
     "metadata": {},
     "output_type": "execute_result"
    }
   ],
   "source": [
    ">>> lst2.extend([5, 6])\n",
    ">>> lst1[4]\n",
    "# 6"
   ]
  },
  {
   "cell_type": "code",
   "execution_count": 98,
   "metadata": {},
   "outputs": [
    {
     "data": {
      "text/plain": [
       "False"
      ]
     },
     "execution_count": 98,
     "metadata": {},
     "output_type": "execute_result"
    }
   ],
   "source": [
    ">>> lst1.append([-1, 0, 1])\n",
    ">>> -1 in lst1\n",
    "# False"
   ]
  },
  {
   "cell_type": "code",
   "execution_count": 99,
   "metadata": {},
   "outputs": [
    {
     "data": {
      "text/plain": [
       "[-1, 0, 1]"
      ]
     },
     "execution_count": 99,
     "metadata": {},
     "output_type": "execute_result"
    }
   ],
   "source": [
    ">>> lst2[5]\n",
    "# [-1, 0, 1]"
   ]
  },
  {
   "cell_type": "code",
   "execution_count": 100,
   "metadata": {},
   "outputs": [
    {
     "data": {
      "text/plain": [
       "5"
      ]
     },
     "execution_count": 100,
     "metadata": {},
     "output_type": "execute_result"
    }
   ],
   "source": [
    ">>> lst3 = lst2[:]\n",
    ">>> lst3.insert(3, lst2.pop(3))\n",
    ">>> len(lst1)\n",
    "# 5"
   ]
  },
  {
   "cell_type": "code",
   "execution_count": 101,
   "metadata": {},
   "outputs": [
    {
     "data": {
      "text/plain": [
       "True"
      ]
     },
     "execution_count": 101,
     "metadata": {},
     "output_type": "execute_result"
    }
   ],
   "source": [
    ">>> lst1[4] is lst3[6]\n",
    "# True"
   ]
  },
  {
   "cell_type": "code",
   "execution_count": 102,
   "metadata": {},
   "outputs": [
    {
     "data": {
      "text/plain": [
       "1"
      ]
     },
     "execution_count": 102,
     "metadata": {},
     "output_type": "execute_result"
    }
   ],
   "source": [
    ">>> lst3[lst2[4][1]]\n",
    "# 1"
   ]
  },
  {
   "cell_type": "code",
   "execution_count": 106,
   "metadata": {},
   "outputs": [
    {
     "data": {
      "text/plain": [
       "True"
      ]
     },
     "execution_count": 106,
     "metadata": {},
     "output_type": "execute_result"
    }
   ],
   "source": [
    ">>> lst1[:3] is lst2[:3]\n",
    "# True wrong\n",
    "# lst1 is lst2, but lst1[:3] makes a new list"
   ]
  },
  {
   "cell_type": "code",
   "execution_count": 107,
   "metadata": {},
   "outputs": [
    {
     "data": {
      "text/plain": [
       "True"
      ]
     },
     "execution_count": 107,
     "metadata": {},
     "output_type": "execute_result"
    }
   ],
   "source": [
    ">>> lst1[:3] == lst2[:3]\n",
    "# True"
   ]
  },
  {
   "cell_type": "code",
   "execution_count": 109,
   "metadata": {},
   "outputs": [
    {
     "data": {
      "text/plain": [
       "(1, 2, [[3], 5, 6])"
      ]
     },
     "execution_count": 109,
     "metadata": {},
     "output_type": "execute_result"
    }
   ],
   "source": [
    ">>> x = (1, 2, [4, 5, 6])\n",
    ">>> x[2] = [3, 5, 6]\n",
    ">>> x\n",
    "# (1, 2, [3, 5, 6]) wrong\n",
    "# error, because tuple object is no mutable, but the element inside it does"
   ]
  },
  {
   "cell_type": "code",
   "execution_count": 110,
   "metadata": {},
   "outputs": [
    {
     "data": {
      "text/plain": [
       "(1, 2, [3, 5, 6])"
      ]
     },
     "execution_count": 110,
     "metadata": {},
     "output_type": "execute_result"
    }
   ],
   "source": [
    ">>> x[2][0] = 3\n",
    ">>> x\n",
    "# (1, 3, [3, 5, 6])"
   ]
  },
  {
   "cell_type": "code",
   "execution_count": 122,
   "metadata": {},
   "outputs": [],
   "source": [
    "# 2.2\n",
    "def add_this_many(x, el, lst):\n",
    "    \"\"\" Adds el to the end of lst the number of times x occurs in lst.\n",
    "    >>> lst = [1, 2, 4, 2, 1]\n",
    "    >>> add_this_many(1, 5, lst)\n",
    "    >>> lst\n",
    "    [1, 2, 4, 2, 1, 5, 5]\n",
    "    >>> add_this_many(2, 2, lst)\n",
    "    >>> lst\n",
    "    [1, 2, 4, 2, 1, 5, 5, 2, 2]\n",
    "    \"\"\"\n",
    "    lst_copy = lst[:]\n",
    "    for k in lst_copy:\n",
    "        print(k) \n",
    "        if k == x:\n",
    "            lst.append(el)"
   ]
  },
  {
   "cell_type": "code",
   "execution_count": 123,
   "metadata": {},
   "outputs": [
    {
     "name": "stdout",
     "output_type": "stream",
     "text": [
      "1\n",
      "2\n",
      "4\n",
      "2\n",
      "1\n"
     ]
    },
    {
     "data": {
      "text/plain": [
       "[1, 2, 4, 2, 1, 5, 5]"
      ]
     },
     "execution_count": 123,
     "metadata": {},
     "output_type": "execute_result"
    }
   ],
   "source": [
    ">>> lst = [1, 2, 4, 2, 1]\n",
    ">>> add_this_many(1, 5, lst)\n",
    "lst"
   ]
  },
  {
   "cell_type": "code",
   "execution_count": 124,
   "metadata": {},
   "outputs": [
    {
     "name": "stdout",
     "output_type": "stream",
     "text": [
      "1\n",
      "2\n",
      "4\n",
      "2\n",
      "1\n",
      "5\n",
      "5\n"
     ]
    },
    {
     "data": {
      "text/plain": [
       "[1, 2, 4, 2, 1, 5, 5, 2, 2]"
      ]
     },
     "execution_count": 124,
     "metadata": {},
     "output_type": "execute_result"
    }
   ],
   "source": [
    ">>> add_this_many(2, 2, lst)\n",
    "lst"
   ]
  },
  {
   "cell_type": "code",
   "execution_count": 125,
   "metadata": {},
   "outputs": [],
   "source": [
    "# 2.3\n",
    "def group_by(s, fn):\n",
    "    my_dict={}\n",
    "    for k in s:\n",
    "        if not fn(k) in my_dict:\n",
    "            my_dict[fn(k)] = [k]\n",
    "        else:\n",
    "            my_dict[fn(k)] += [k]\n",
    "    return my_dict"
   ]
  },
  {
   "cell_type": "code",
   "execution_count": 126,
   "metadata": {},
   "outputs": [
    {
     "data": {
      "text/plain": [
       "{1: [12, 14], 2: [23], 4: [45]}"
      ]
     },
     "execution_count": 126,
     "metadata": {},
     "output_type": "execute_result"
    }
   ],
   "source": [
    "group_by([12, 23, 14, 45], lambda p: p // 10)"
   ]
  },
  {
   "cell_type": "code",
   "execution_count": 127,
   "metadata": {},
   "outputs": [
    {
     "data": {
      "text/plain": [
       "{9: [-3, 3], 4: [-2, 2], 1: [-1, 1], 0: [0]}"
      ]
     },
     "execution_count": 127,
     "metadata": {},
     "output_type": "execute_result"
    }
   ],
   "source": [
    "group_by(range(-3, 4), lambda x: x * x)"
   ]
  },
  {
   "cell_type": "code",
   "execution_count": 180,
   "metadata": {},
   "outputs": [],
   "source": [
    "def partition_options(total, biggest):\n",
    "\n",
    "    if biggest==1:\n",
    "        return [[1 for _ in range(total)]]\n",
    "    elif biggest > total:\n",
    "        return partition_options(total, biggest-1)\n",
    "    else:\n",
    "        with_biggest =  partition_options(total-biggest, biggest)\n",
    "        without_biggest = partition_options(total, biggest-1)\n",
    "    with_biggest = [[biggest]+p for p in with_biggest]   \n",
    "    return with_biggest + without_biggest\n"
   ]
  },
  {
   "cell_type": "code",
   "execution_count": 181,
   "metadata": {},
   "outputs": [
    {
     "data": {
      "text/plain": [
       "[[2], [1, 1]]"
      ]
     },
     "execution_count": 181,
     "metadata": {},
     "output_type": "execute_result"
    }
   ],
   "source": [
    "partition_options(2, 2)"
   ]
  },
  {
   "cell_type": "code",
   "execution_count": 182,
   "metadata": {},
   "outputs": [
    {
     "data": {
      "text/plain": [
       "[[3], [2, 1], [1, 1, 1]]"
      ]
     },
     "execution_count": 182,
     "metadata": {},
     "output_type": "execute_result"
    }
   ],
   "source": [
    "partition_options(3, 3)"
   ]
  },
  {
   "cell_type": "code",
   "execution_count": 183,
   "metadata": {},
   "outputs": [
    {
     "data": {
      "text/plain": [
       "[[3, 1], [2, 2], [2, 1, 1], [1, 1, 1, 1]]"
      ]
     },
     "execution_count": 183,
     "metadata": {},
     "output_type": "execute_result"
    }
   ],
   "source": [
    "partition_options(4, 3)"
   ]
  },
  {
   "cell_type": "code",
   "execution_count": 217,
   "metadata": {},
   "outputs": [],
   "source": [
    "# (b)\n",
    "def min_elements(T, lst):\n",
    "    if T == 0:\n",
    "        return 0\n",
    "    return min([(min_elements(T-n, lst)) for n in lst if T-n >= 0]) + 1"
   ]
  },
  {
   "cell_type": "code",
   "execution_count": 218,
   "metadata": {},
   "outputs": [
    {
     "data": {
      "text/plain": [
       "3"
      ]
     },
     "execution_count": 218,
     "metadata": {},
     "output_type": "execute_result"
    }
   ],
   "source": [
    " min_elements(10, [4, 2, 1])"
   ]
  },
  {
   "cell_type": "code",
   "execution_count": 219,
   "metadata": {},
   "outputs": [
    {
     "data": {
      "text/plain": [
       "3"
      ]
     },
     "execution_count": 219,
     "metadata": {},
     "output_type": "execute_result"
    }
   ],
   "source": [
    "min_elements(12, [9, 4, 1])"
   ]
  },
  {
   "cell_type": "code",
   "execution_count": 216,
   "metadata": {},
   "outputs": [
    {
     "data": {
      "text/plain": [
       "0"
      ]
     },
     "execution_count": 216,
     "metadata": {},
     "output_type": "execute_result"
    }
   ],
   "source": [
    "min_elements(0, [1, 2, 3])"
   ]
  },
  {
   "cell_type": "code",
   "execution_count": 221,
   "metadata": {},
   "outputs": [
    {
     "data": {
      "text/plain": [
       "4"
      ]
     },
     "execution_count": 221,
     "metadata": {},
     "output_type": "execute_result"
    }
   ],
   "source": [
    "min_elements(11, [4,2,1])"
   ]
  },
  {
   "cell_type": "code",
   "execution_count": null,
   "metadata": {},
   "outputs": [],
   "source": []
  }
 ],
 "metadata": {
  "kernelspec": {
   "display_name": "Python 3",
   "language": "python",
   "name": "python3"
  },
  "language_info": {
   "codemirror_mode": {
    "name": "ipython",
    "version": 3
   },
   "file_extension": ".py",
   "mimetype": "text/x-python",
   "name": "python",
   "nbconvert_exporter": "python",
   "pygments_lexer": "ipython3",
   "version": "3.6.9"
  }
 },
 "nbformat": 4,
 "nbformat_minor": 4
}
