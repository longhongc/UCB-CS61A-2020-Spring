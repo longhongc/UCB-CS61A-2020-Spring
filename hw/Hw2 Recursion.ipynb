{
 "cells": [
  {
   "cell_type": "markdown",
   "metadata": {},
   "source": [
    "# Q1: Num eights\n",
    "Write a recursive function num_eights that takes a positive integer x and returns the number of times the digit 8 appears in x. Use recursion - the tests will fail if you use any assignment statements."
   ]
  },
  {
   "cell_type": "code",
   "execution_count": 1,
   "metadata": {},
   "outputs": [],
   "source": [
    "def num_eights(x):\n",
    "    \"\"\"Returns the number of times 8 appears as a digit of x.\n",
    "\n",
    "    >>> num_eights(3)\n",
    "    0\n",
    "    >>> num_eights(8)\n",
    "    1\n",
    "    >>> num_eights(88888888)\n",
    "    8\n",
    "    >>> num_eights(2638)\n",
    "    1\n",
    "    >>> num_eights(86380)\n",
    "    2\n",
    "    >>> num_eights(12345)\n",
    "    0\n",
    "    >>> from construct_check import check\n",
    "    >>> # ban all assignment statements\n",
    "    >>> check(HW_SOURCE_FILE, 'num_eights',\n",
    "    ...       ['Assign', 'AugAssign'])\n",
    "    True\n",
    "    \"\"\"\n",
    "    \"*** YOUR CODE HERE ***\"\n",
    "    count=0\n",
    "    notlast, last = x//10, x%10\n",
    "    if last==8:\n",
    "        count+=1\n",
    "    if notlast==0:\n",
    "        return count\n",
    "    else:\n",
    "        count+=num_eights(notlast)\n",
    "        return count"
   ]
  },
  {
   "cell_type": "code",
   "execution_count": 12,
   "metadata": {},
   "outputs": [],
   "source": [
    "#import doctest\n",
    "#doctest.testmod(verbose=True)"
   ]
  },
  {
   "cell_type": "code",
   "execution_count": 15,
   "metadata": {},
   "outputs": [],
   "source": [
    "def num_eights(x):\n",
    "    \"\"\"Returns the number of times 8 appears as a digit of x.\n",
    "\n",
    "    >>> num_eights(3)\n",
    "    0\n",
    "    >>> num_eights(8)\n",
    "    1\n",
    "    >>> num_eights(88888888)\n",
    "    8\n",
    "    >>> num_eights(2638)\n",
    "    1\n",
    "    >>> num_eights(86380)\n",
    "    2\n",
    "    >>> num_eights(12345)\n",
    "    0\n",
    "    >>> from construct_check import check\n",
    "    >>> # ban all assignment statements\n",
    "    >>> check(HW_SOURCE_FILE, 'num_eights',\n",
    "    ...       ['Assign', 'AugAssign'])\n",
    "    True\n",
    "    \"\"\"\n",
    "    \"*** YOUR CODE HERE ***\"\n",
    "    #count=0\n",
    "    #notlast, last = x//10, x%10\n",
    "    if x//10==0:\n",
    "        if (x%10)==8:\n",
    "            return 1\n",
    "        else:\n",
    "            return 0\n",
    "    else:\n",
    "        if (x%10)==8:\n",
    "            return num_eights(x//10)+1\n",
    "        else:\n",
    "            return num_eights(x//10)"
   ]
  },
  {
   "cell_type": "markdown",
   "metadata": {},
   "source": [
    "# Q2: Ping-pong\n",
    "The ping-pong sequence counts up starting from 1 and is always either counting up or counting down. At element k, the direction switches if k is a multiple of 8 or contains the digit 8. The first 30 elements of the ping-pong sequence are listed below, with direction swaps marked using brackets at the 8th, 16th, 18th, 24th, and 28th elements:"
   ]
  },
  {
   "cell_type": "code",
   "execution_count": 33,
   "metadata": {},
   "outputs": [],
   "source": [
    "def pingpong(n):\n",
    "    \"\"\"Return the nth element of the ping-pong sequence.\n",
    "\n",
    "    >>> pingpong(8)\n",
    "    8\n",
    "    >>> pingpong(10)\n",
    "    6\n",
    "    >>> pingpong(15)\n",
    "    1\n",
    "    >>> pingpong(21)\n",
    "    -1\n",
    "    >>> pingpong(22)\n",
    "    -2\n",
    "    >>> pingpong(30)\n",
    "    -2\n",
    "    >>> pingpong(68)\n",
    "    0\n",
    "    >>> pingpong(69)\n",
    "    -1\n",
    "    >>> pingpong(80)\n",
    "    0\n",
    "    >>> pingpong(81)\n",
    "    1\n",
    "    >>> pingpong(82)\n",
    "    0\n",
    "    >>> pingpong(100)\n",
    "    -6\n",
    "    >>> from construct_check import check\n",
    "    >>> # ban assignment statements\n",
    "    >>> check(HW_SOURCE_FILE, 'pingpong', ['Assign', 'AugAssign'])\n",
    "    True\n",
    "    \"\"\"\n",
    "    \"*** YOUR CODE HERE ***\"  \n",
    "    if n==1:\n",
    "        return 1\n",
    "    if n==2:\n",
    "        return pingpong(n-1)+1\n",
    "    else:\n",
    "        if pingpong(n-1)>pingpong(n-2):\n",
    "            if (num_eights(n-1)>0) or ((n-1)%8==0):\n",
    "                return pingpong(n-1)-1\n",
    "            else:\n",
    "                return pingpong(n-1)+1\n",
    "        else:\n",
    "            #print(\"do pingpong21\")\n",
    "            if (num_eights(n-1)>0) or ((n-1)%8==0):\n",
    "                return pingpong(n-1)+1\n",
    "            else:\n",
    "                #print(\"do pingpong21\")\n",
    "                return pingpong(n-1)-1\n"
   ]
  },
  {
   "cell_type": "code",
   "execution_count": 35,
   "metadata": {},
   "outputs": [],
   "source": [
    "def pingpong(n):\n",
    "    \"\"\"Return the nth element of the ping-pong sequence.\n",
    "\n",
    "    >>> pingpong(8)\n",
    "    8\n",
    "    >>> pingpong(10)\n",
    "    6\n",
    "    >>> pingpong(15)\n",
    "    1\n",
    "    >>> pingpong(21)\n",
    "    -1\n",
    "    >>> pingpong(22)\n",
    "    -2\n",
    "    >>> pingpong(30)\n",
    "    -2\n",
    "    >>> pingpong(68)\n",
    "    0\n",
    "    >>> pingpong(69)\n",
    "    -1\n",
    "    >>> pingpong(80)\n",
    "    0\n",
    "    >>> pingpong(81)\n",
    "    1\n",
    "    >>> pingpong(82)\n",
    "    0\n",
    "    >>> pingpong(100)\n",
    "    -6\n",
    "    >>> from construct_check import check\n",
    "    >>> # ban assignment statements\n",
    "    >>> check(HW_SOURCE_FILE, 'pingpong', ['Assign', 'AugAssign'])\n",
    "    True\n",
    "    \"\"\"\n",
    "    \"*** YOUR CODE HERE ***\"  \n",
    "    def condition(n):\n",
    "        return (num_eights(n-1)>0) or ((n-1)%8==0)\n",
    "    def dir(n):\n",
    "        if n==1:\n",
    "            return 1\n",
    "        if condition(n):\n",
    "            return -dir(n-1)\n",
    "        else:\n",
    "            return dir(n-1)\n",
    "    if n==1:\n",
    "        return 1\n",
    "    else:\n",
    "        return pingpong(n-1)+dir(n)\n",
    "   \n"
   ]
  },
  {
   "cell_type": "code",
   "execution_count": 36,
   "metadata": {},
   "outputs": [
    {
     "data": {
      "text/plain": [
       "-2"
      ]
     },
     "execution_count": 36,
     "metadata": {},
     "output_type": "execute_result"
    }
   ],
   "source": [
    "pingpong(22)"
   ]
  },
  {
   "cell_type": "markdown",
   "metadata": {},
   "source": [
    "# Q3: Missing Digits\n",
    "Write the recursive function missing_digits that takes a number n that is sorted in increasing order (for example, 12289 is valid but 15362 and 98764 are not). It returns the number of missing digits in n. A missing digit is a number between the first and last digit of n of a that is not in n. Use recursion - the tests will fail if you use while or for loops."
   ]
  },
  {
   "cell_type": "code",
   "execution_count": 58,
   "metadata": {},
   "outputs": [],
   "source": [
    "def missing_digits(n):\n",
    "    \"\"\"Given a number a that is in sorted, increasing order,\n",
    "    return the number of missing digits in n. A missing digit is\n",
    "    a number between the first and last digit of a that is not in n.\n",
    "    >>> missing_digits(1248) # 3, 5, 6, 7\n",
    "    4\n",
    "    >>> missing_digits(1122) # No missing numbers\n",
    "    0\n",
    "    >>> missing_digits(123456) # No missing numbers\n",
    "    0\n",
    "    >>> missing_digits(3558) # 4, 6, 7\n",
    "    3\n",
    "    >>> missing_digits(35578) # 4, 6\n",
    "    2\n",
    "    >>> missing_digits(12456) # 3\n",
    "    1\n",
    "    >>> missing_digits(16789) # 2, 3, 4, 5\n",
    "    4\n",
    "    >>> missing_digits(19) # 2, 3, 4, 5, 6, 7, 8\n",
    "    7\n",
    "    >>> missing_digits(4) # No missing numbers between 4 and 4\n",
    "    0\n",
    "    >>> from construct_check import check\n",
    "    >>> # ban while or for loops\n",
    "    >>> check(HW_SOURCE_FILE, 'missing_digits', ['While', 'For'])\n",
    "    True\n",
    "    \"\"\"\n",
    "    \"*** YOUR CODE HERE ***\"\n",
    "\n",
    "    if (n//10)==0:\n",
    "        return 0\n",
    "    last = n%10\n",
    "    last2 = (n//10)%10\n",
    "    gap = last-last2\n",
    "    print(gap)\n",
    "    if gap==0:\n",
    "        gap=1\n",
    "    if (n>0) and (n<100):\n",
    "        return (gap-1) \n",
    "    else:\n",
    "        print(n)\n",
    "        return (gap-1)+missing_digits(n//10)\n",
    "        \n",
    "        "
   ]
  },
  {
   "cell_type": "code",
   "execution_count": 59,
   "metadata": {},
   "outputs": [
    {
     "name": "stdout",
     "output_type": "stream",
     "text": [
      "3\n",
      "3558\n",
      "0\n",
      "355\n",
      "2\n"
     ]
    },
    {
     "data": {
      "text/plain": [
       "3"
      ]
     },
     "execution_count": 59,
     "metadata": {},
     "output_type": "execute_result"
    }
   ],
   "source": [
    "missing_digits(3558)"
   ]
  },
  {
   "cell_type": "code",
   "execution_count": 49,
   "metadata": {},
   "outputs": [
    {
     "data": {
      "text/plain": [
       "5"
      ]
     },
     "execution_count": 49,
     "metadata": {},
     "output_type": "execute_result"
    }
   ],
   "source": [
    "(3558//10)%10"
   ]
  },
  {
   "cell_type": "markdown",
   "metadata": {},
   "source": [
    "# Q4: Count coins\n",
    "Given a positive integer total, a set of coins makes change for total if the sum of the values of the coins is total. Here we will use standard US Coin values: 1, 5, 10, 25 For example, the following sets make change for 15:\n",
    "\n",
    "* 15 1-cent coins\n",
    "* 10 1-cent, 1 5-cent coins\n",
    "* 5 1-cent, 2 5-cent coins\n",
    "* 5 1-cent, 1 10-cent coins\n",
    "* 3 5-cent coins\n",
    "* 1 5-cent, 1 10-cent coin  \n",
    "\n",
    "Thus, there are 6 ways to make change for 15. Write a recursive function count_coins that takes a positive integer total and returns the number of ways to make change for total using coins. Use the next_largest_coin function given to you to calculate the next largest coin denomination given your current coin. I.e. next_largest_coin(5) = 10."
   ]
  },
  {
   "cell_type": "code",
   "execution_count": 69,
   "metadata": {},
   "outputs": [],
   "source": [
    "def next_largest_coin(coin):\n",
    "    \"\"\"Return the next coin. \n",
    "    >>> next_largest_coin(1)\n",
    "    5\n",
    "    >>> next_largest_coin(5)\n",
    "    10\n",
    "    >>> next_largest_coin(10)\n",
    "    25\n",
    "    >>> next_largest_coin(2) # Other values return None\n",
    "    \"\"\"\n",
    "    if coin == 1:\n",
    "        return 5\n",
    "    elif coin == 5:\n",
    "        return 10\n",
    "    elif coin == 10:\n",
    "        return 25\n",
    "\n",
    "def count_coins(total):\n",
    "    \"\"\"Return the number of ways to make change for total using coins of value of 1, 5, 10, 25.\n",
    "    >>> count_coins(15)\n",
    "    6\n",
    "    >>> count_coins(10)\n",
    "    4\n",
    "    >>> count_coins(20)\n",
    "    9\n",
    "    >>> count_coins(100) # How many ways to make change for a dollar?\n",
    "    242\n",
    "    >>> from construct_check import check\n",
    "    >>> # ban iteration\n",
    "    >>> check(HW_SOURCE_FILE, 'count_coins', ['While', 'For'])                                          \n",
    "    True\n",
    "    \"\"\"\n",
    "    \"*** YOUR CODE HERE ***\"\n",
    "    nlc = next_largest_coin\n",
    "    def nlc_index(m):\n",
    "        if m==1:\n",
    "            return 1\n",
    "        else:\n",
    "            return nlc(nlc_index(m-1))\n",
    "        return nlc() \n",
    "    def count_partitions(n, m):\n",
    "        if n==0:\n",
    "            return 1\n",
    "        elif n < 0:\n",
    "            return 0\n",
    "        elif m == 0:\n",
    "            return 0\n",
    "        else:\n",
    "            with_m = count_partitions(n-nlc_index(m), m)\n",
    "            without_m = count_partitions(n, m-1)\n",
    "            return with_m + without_m    \n",
    " \n",
    "    return count_partitions(total, 4)"
   ]
  },
  {
   "cell_type": "code",
   "execution_count": 72,
   "metadata": {},
   "outputs": [
    {
     "data": {
      "text/plain": [
       "242"
      ]
     },
     "execution_count": 72,
     "metadata": {},
     "output_type": "execute_result"
    }
   ],
   "source": [
    "count_coins(100)"
   ]
  },
  {
   "cell_type": "code",
   "execution_count": 62,
   "metadata": {},
   "outputs": [],
   "source": [
    "def next_largest_coin(coin):\n",
    "    \"\"\"Return the next coin. \n",
    "    >>> next_largest_coin(1)\n",
    "    5\n",
    "    >>> next_largest_coin(5)\n",
    "    10\n",
    "    >>> next_largest_coin(10)\n",
    "    25\n",
    "    >>> next_largest_coin(2) # Other values return None\n",
    "    \"\"\"\n",
    "    if coin == 1:\n",
    "        return 5\n",
    "    elif coin == 5:\n",
    "        return 10\n",
    "    elif coin == 10:\n",
    "        return 25\n",
    "nlc = next_largest_coin\n",
    "def nlc_index(m):\n",
    "    if m==1:\n",
    "        return 1\n",
    "    else:\n",
    "        return nlc(nlc_index(m-1))\n",
    "    return nlc() "
   ]
  },
  {
   "cell_type": "code",
   "execution_count": 64,
   "metadata": {},
   "outputs": [
    {
     "data": {
      "text/plain": [
       "25"
      ]
     },
     "execution_count": 64,
     "metadata": {},
     "output_type": "execute_result"
    }
   ],
   "source": [
    "nlc_index(4)"
   ]
  },
  {
   "cell_type": "markdown",
   "metadata": {},
   "source": [
    "# Q5: Anonymous factorial\n",
    "The recursive factorial function can be written as a single expression by using a conditional expression.\n",
    "```\n",
    ">>> fact = lambda n: 1 if n == 1 else mul(n, fact(sub(n, 1)))\n",
    ">>> fact(5)\n",
    "120\n",
    "\n",
    "```\n",
    "However, this implementation relies on the fact (no pun intended) that fact has a name, to which we refer in the body of fact. To write a recursive function, we have always given it a name using a def or assignment statement so that we can refer to the function within its own body. In this question, your job is to define fact recursively without giving it a name!\n",
    "\n",
    "Write an expression that computes n factorial using only call expressions, conditional expressions, and lambda expressions (no assignment or def statements). Note in particular that you are not allowed to use make_anonymous_factorial in your return expression. The sub and mul functions from the operator module are the only built-in functions required to solve this problem:"
   ]
  },
  {
   "cell_type": "code",
   "execution_count": 91,
   "metadata": {},
   "outputs": [],
   "source": [
    "from operator import sub, mul\n",
    "\n",
    "def make_anonymous_factorial():\n",
    "    \"\"\"Return the value of an expression that computes factorial.\n",
    "\n",
    "    >>> make_anonymous_factorial()(5)\n",
    "    120\n",
    "    >>> from construct_check import check\n",
    "    >>> # ban any assignments or recursion\n",
    "    >>> check(HW_SOURCE_FILE, 'make_anonymous_factorial', ['Assign', 'AugAssign', 'FunctionDef', 'Recursion'])\n",
    "    True\n",
    "    \"\"\"\n",
    "    return (lambda f: (lambda x: f(f,x)))(lambda g,n: 1 if n == 1 else mul(n, g(g, sub(n, 1))))\n",
    "\n",
    "     "
   ]
  },
  {
   "cell_type": "code",
   "execution_count": 93,
   "metadata": {},
   "outputs": [
    {
     "data": {
      "text/plain": [
       "120"
      ]
     },
     "execution_count": 93,
     "metadata": {},
     "output_type": "execute_result"
    }
   ],
   "source": [
    " make_anonymous_factorial()(5)"
   ]
  },
  {
   "cell_type": "code",
   "execution_count": null,
   "metadata": {},
   "outputs": [],
   "source": []
  }
 ],
 "metadata": {
  "kernelspec": {
   "display_name": "Python 3",
   "language": "python",
   "name": "python3"
  },
  "language_info": {
   "codemirror_mode": {
    "name": "ipython",
    "version": 3
   },
   "file_extension": ".py",
   "mimetype": "text/x-python",
   "name": "python",
   "nbconvert_exporter": "python",
   "pygments_lexer": "ipython3",
   "version": "3.6.9"
  }
 },
 "nbformat": 4,
 "nbformat_minor": 4
}
