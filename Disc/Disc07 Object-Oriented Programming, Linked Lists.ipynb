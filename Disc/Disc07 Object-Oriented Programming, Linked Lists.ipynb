{
 "cells": [
  {
   "cell_type": "code",
   "execution_count": 1,
   "metadata": {},
   "outputs": [],
   "source": [
    "#1.1\n",
    "class Student:\n",
    "    students = 0 # this is a class attribute\n",
    "    def __init__(self, name, ta):\n",
    "        self.name = name # this is an instance attribute\n",
    "        self.understanding = 0\n",
    "        Student.students += 1\n",
    "        print(\"There are now\", Student.students, \"students\")\n",
    "        ta.add_student(self)\n",
    "    def visit_office_hours(self, staff):\n",
    "        staff.assist(self)\n",
    "        print(\"Thanks, \" + staff.name)\n",
    "class Professor:\n",
    "    def __init__(self, name):\n",
    "        self.name = name\n",
    "        self.students = {}\n",
    "    def add_student(self, student):\n",
    "        self.students[student.name] = student\n",
    "    def assist(self, student):\n",
    "        student.understanding += 1"
   ]
  },
  {
   "cell_type": "code",
   "execution_count": 2,
   "metadata": {},
   "outputs": [
    {
     "name": "stdout",
     "output_type": "stream",
     "text": [
      "There are now 1 students\n"
     ]
    }
   ],
   "source": [
    ">>> snape = Professor(\"Snape\")\n",
    ">>> harry = Student(\"Harry\", snape)\n",
    "# There are now 1 students"
   ]
  },
  {
   "cell_type": "code",
   "execution_count": 3,
   "metadata": {},
   "outputs": [
    {
     "name": "stdout",
     "output_type": "stream",
     "text": [
      "Thanks, Snape\n"
     ]
    }
   ],
   "source": [
    ">>> harry.visit_office_hours(snape)\n",
    "# Thanks, Snape"
   ]
  },
  {
   "cell_type": "code",
   "execution_count": 4,
   "metadata": {},
   "outputs": [
    {
     "name": "stdout",
     "output_type": "stream",
     "text": [
      "Thanks, Hagrid\n"
     ]
    }
   ],
   "source": [
    ">>> harry.visit_office_hours(Professor(\"Hagrid\"))\n",
    "# Thanks, Hagrid"
   ]
  },
  {
   "cell_type": "code",
   "execution_count": 5,
   "metadata": {},
   "outputs": [
    {
     "data": {
      "text/plain": [
       "2"
      ]
     },
     "execution_count": 5,
     "metadata": {},
     "output_type": "execute_result"
    }
   ],
   "source": [
    ">>> harry.understanding\n",
    "# 2"
   ]
  },
  {
   "cell_type": "code",
   "execution_count": 7,
   "metadata": {},
   "outputs": [
    {
     "data": {
      "text/plain": [
       "['Harry']"
      ]
     },
     "execution_count": 7,
     "metadata": {},
     "output_type": "execute_result"
    }
   ],
   "source": [
    ">>> [name for name in snape.students]\n",
    "# ['Harry']"
   ]
  },
  {
   "cell_type": "code",
   "execution_count": 8,
   "metadata": {},
   "outputs": [
    {
     "name": "stdout",
     "output_type": "stream",
     "text": [
      "There are now 2 students\n"
     ]
    }
   ],
   "source": [
    ">>> x = Student(\"Hermione\", Professor(\"McGonagall\")).name\n",
    "# There are now 2 students"
   ]
  },
  {
   "cell_type": "code",
   "execution_count": 9,
   "metadata": {},
   "outputs": [
    {
     "data": {
      "text/plain": [
       "'Hermione'"
      ]
     },
     "execution_count": 9,
     "metadata": {},
     "output_type": "execute_result"
    }
   ],
   "source": [
    ">>> x\n",
    "# 'Hermione'"
   ]
  },
  {
   "cell_type": "code",
   "execution_count": 11,
   "metadata": {},
   "outputs": [
    {
     "data": {
      "text/plain": [
       "['Harry']"
      ]
     },
     "execution_count": 11,
     "metadata": {},
     "output_type": "execute_result"
    }
   ],
   "source": [
    ">>> [name for name in snape.students]\n",
    "# ['Harry']"
   ]
  },
  {
   "cell_type": "code",
   "execution_count": 14,
   "metadata": {},
   "outputs": [],
   "source": [
    "# 1.2\n",
    "class Email:\n",
    "    \"\"\"Every email object has 3 instance attributes: the\n",
    "    message, the sender name, and the recipient name.\n",
    "    \"\"\"\n",
    "    def __init__(self, msg, sender_name, recipient_name):\n",
    "        self.msg = msg\n",
    "        self.sender_name = sender_name\n",
    "        self.recipient_name = recipient_name"
   ]
  },
  {
   "cell_type": "code",
   "execution_count": 18,
   "metadata": {},
   "outputs": [],
   "source": [
    "class Server:\n",
    "    \"\"\"Each Server has an instance attribute clients, which\n",
    "    is a dictionary that associates client names with\n",
    "    client objects.\n",
    "    \"\"\"\n",
    "    def __init__(self):\n",
    "        self.clients = {}\n",
    "    def send(self, email):\n",
    "        \"\"\"Take an email and put it in the inbox of the client\n",
    "        it is addressed to.\n",
    "        \"\"\"\n",
    "        if not email.recipient_name in self.clients:\n",
    "            return \"{} is not registered\".format(email.recipient_name)\n",
    "        else:\n",
    "            self.clients[email.recipient_name].receive(email)\n",
    "    def register_client(self, client, client_name):\n",
    "        \"\"\"Takes a client object and client_name and adds them\n",
    "        to the clients instance attribute.\n",
    "        \"\"\"\n",
    "        if not client_name in self.clients:\n",
    "            self.clients[client_name] = client"
   ]
  },
  {
   "cell_type": "code",
   "execution_count": 19,
   "metadata": {},
   "outputs": [],
   "source": [
    "class Client:\n",
    "    \"\"\"Every Client has instance attributes name (which is\n",
    "    used for addressing emails to the client), server\n",
    "    (which is used to send emails out to other clients), and\n",
    "    inbox (a list of all emails the client has received).\n",
    "    \"\"\"\n",
    "    def __init__(self, server, name):\n",
    "        self.inbox = []\n",
    "        self.server = server\n",
    "        self.name = name\n",
    "        self.server.register_client(self, self.name)\n",
    "    def compose(self, msg, recipient_name):\n",
    "        \"\"\"Send an email with the given message msg to the\n",
    "        given recipient client.\n",
    "        \"\"\"\n",
    "        self.server.send(Email(msg, self.name, recipient_name))\n",
    "    def receive(self, email):\n",
    "        \"\"\"Take an email and add it to the inbox of this\n",
    "        client.\n",
    "        \"\"\"\n",
    "        self.inbox.append(email)"
   ]
  },
  {
   "cell_type": "code",
   "execution_count": 22,
   "metadata": {},
   "outputs": [
    {
     "data": {
      "text/plain": [
       "['long time no see', 'How are you']"
      ]
     },
     "execution_count": 22,
     "metadata": {},
     "output_type": "execute_result"
    }
   ],
   "source": [
    "NTHU = Server()\n",
    "mark = Client(NTHU, \"Mark\")\n",
    "jenny = Client(NTHU, \"Jenny\")\n",
    "sherry = Client(NTHU, \"Sherry\")\n",
    "mark.compose(\"long time no see\", \"Jenny\")\n",
    "mark.compose(\"How are you\", \"Jenny\")\n",
    "mark.compose(\"long time no see\", \"Sherry\")\n",
    "mark.compose(\"How are you\", \"Sherry\")\n",
    "[email.msg for email in jenny.inbox]"
   ]
  },
  {
   "cell_type": "code",
   "execution_count": 23,
   "metadata": {},
   "outputs": [],
   "source": [
    "# 2.1\n",
    "class Pet():\n",
    "    def __init__(self, name, owner):\n",
    "        self.is_alive = True # It's alive!!!\n",
    "        self.name = name\n",
    "        self.owner = owner\n",
    "    def eat(self, thing):\n",
    "        print(self.name + \" ate a \" + str(thing) + \"!\")\n",
    "    def talk(self):\n",
    "        print(self.name)"
   ]
  },
  {
   "cell_type": "code",
   "execution_count": 24,
   "metadata": {},
   "outputs": [],
   "source": [
    "class Cat(Pet):\n",
    "    def __init__(self, name, owner, lives=9):\n",
    "        self.lives = lives\n",
    "        Pet.__init__(self, name, owner)\n",
    "    def talk(self):\n",
    "        \"\"\" Print out a cat's greeting.\n",
    "        >>> Cat('Thomas', 'Tammy').talk()\n",
    "        Thomas says meow!\n",
    "        \"\"\"\n",
    "        print(\"{} says meow!\".format(self.name))\n",
    "    def lose_life(self):\n",
    "        \"\"\"Decrements a cat's life by 1. When lives reaches zero, 'is_alive'\n",
    "        becomes False. If this is called after lives has reached zero, print out\n",
    "        that the cat has no more lives to lose.\n",
    "        \"\"\"\n",
    "        self.lives -= 1\n",
    "        if self.lives == 0:\n",
    "            print(\"{} is dead\".format(self.name))\n"
   ]
  },
  {
   "cell_type": "code",
   "execution_count": 26,
   "metadata": {},
   "outputs": [
    {
     "name": "stdout",
     "output_type": "stream",
     "text": [
      "Thomas says meow!\n"
     ]
    }
   ],
   "source": [
    "thomas = Cat('Thomas', 'Tammy')\n",
    "thomas.talk()"
   ]
  },
  {
   "cell_type": "code",
   "execution_count": 27,
   "metadata": {},
   "outputs": [
    {
     "name": "stdout",
     "output_type": "stream",
     "text": [
      "Thomas is dead\n"
     ]
    }
   ],
   "source": [
    "for _ in range(9):\n",
    "    thomas.lose_life()"
   ]
  },
  {
   "cell_type": "code",
   "execution_count": 28,
   "metadata": {},
   "outputs": [],
   "source": [
    "class NoisyCat(Cat):\n",
    "    def talk(self):\n",
    "        Cat.talk(self)\n",
    "        Cat.talk(self)"
   ]
  },
  {
   "cell_type": "code",
   "execution_count": 29,
   "metadata": {},
   "outputs": [
    {
     "name": "stdout",
     "output_type": "stream",
     "text": [
      "Magic says meow!\n",
      "Magic says meow!\n"
     ]
    }
   ],
   "source": [
    "NoisyCat('Magic', 'James').talk()"
   ]
  },
  {
   "cell_type": "code",
   "execution_count": 33,
   "metadata": {},
   "outputs": [],
   "source": [
    "# 2.3\n",
    "class A:\n",
    "    def f(self):\n",
    "        return 2\n",
    "    def g(self, obj, x):\n",
    "        if x == 0:\n",
    "            return A.f(obj)\n",
    "        return obj.f() + self.g(self, x - 1)\n",
    "class B(A):\n",
    "    def f(self):\n",
    "        return 4"
   ]
  },
  {
   "cell_type": "code",
   "execution_count": 34,
   "metadata": {},
   "outputs": [
    {
     "data": {
      "text/plain": [
       "2"
      ]
     },
     "execution_count": 34,
     "metadata": {},
     "output_type": "execute_result"
    }
   ],
   "source": [
    ">>> x, y = A(), B()\n",
    ">>> x.f()\n",
    "# 2"
   ]
  },
  {
   "cell_type": "code",
   "execution_count": 35,
   "metadata": {},
   "outputs": [
    {
     "ename": "TypeError",
     "evalue": "f() missing 1 required positional argument: 'self'",
     "output_type": "error",
     "traceback": [
      "\u001b[0;31m---------------------------------------------------------------------------\u001b[0m",
      "\u001b[0;31mTypeError\u001b[0m                                 Traceback (most recent call last)",
      "\u001b[0;32m<ipython-input-35-10eaa0ab77a6>\u001b[0m in \u001b[0;36m<module>\u001b[0;34m\u001b[0m\n\u001b[0;32m----> 1\u001b[0;31m \u001b[0mB\u001b[0m\u001b[0;34m.\u001b[0m\u001b[0mf\u001b[0m\u001b[0;34m(\u001b[0m\u001b[0;34m)\u001b[0m\u001b[0;34m\u001b[0m\u001b[0;34m\u001b[0m\u001b[0m\n\u001b[0m\u001b[1;32m      2\u001b[0m \u001b[0;31m# 4\u001b[0m\u001b[0;34m\u001b[0m\u001b[0;34m\u001b[0m\u001b[0;34m\u001b[0m\u001b[0m\n",
      "\u001b[0;31mTypeError\u001b[0m: f() missing 1 required positional argument: 'self'"
     ]
    }
   ],
   "source": [
    ">>> B.f()\n",
    "# 4 error\n",
    "# B is a class, f need to pass in a instance"
   ]
  },
  {
   "cell_type": "code",
   "execution_count": 36,
   "metadata": {},
   "outputs": [
    {
     "data": {
      "text/plain": [
       "4"
      ]
     },
     "execution_count": 36,
     "metadata": {},
     "output_type": "execute_result"
    }
   ],
   "source": [
    ">>> x.g(x, 1)\n",
    "# 4"
   ]
  },
  {
   "cell_type": "code",
   "execution_count": 37,
   "metadata": {},
   "outputs": [
    {
     "data": {
      "text/plain": [
       "8"
      ]
     },
     "execution_count": 37,
     "metadata": {},
     "output_type": "execute_result"
    }
   ],
   "source": [
    ">>> y.g(x, 2)\n",
    "# 12 error\n",
    "# 2+y.g(y,1)\n",
    "# 2+4+g(y,1)\n",
    "# 2+4+2=8"
   ]
  },
  {
   "cell_type": "code",
   "execution_count": 38,
   "metadata": {},
   "outputs": [],
   "source": [
    "class Link:\n",
    "    empty = ()\n",
    "    def __init__(self, first, rest=empty):\n",
    "        assert rest is Link.empty or isinstance(rest, Link)\n",
    "        self.first = first\n",
    "        self.rest = rest\n",
    "    def __repr__(self):\n",
    "        if self.rest:\n",
    "            rest_str = ', ' + repr(self.rest)\n",
    "        else:\n",
    "            rest_str = ''\n",
    "        return 'Link({0}{1})'.format(repr(self.first), rest_str)\n",
    "    def __str__(self):\n",
    "        string = '<'\n",
    "        while self.rest is not Link.empty:\n",
    "            string += str(self.first) + ' '\n",
    "            self = self.rest\n",
    "        return string + str(self.first) + '>'"
   ]
  },
  {
   "cell_type": "code",
   "execution_count": 41,
   "metadata": {},
   "outputs": [],
   "source": [
    "#3.1\n",
    "def sum_nums(link):\n",
    "    \"\"\"\n",
    "    >>> a = Link(1, Link(6, Link(7)))\n",
    "    >>> sum_nums(a)\n",
    "    14\n",
    "    \"\"\"\n",
    "    if link.rest is link.empty:\n",
    "        return link.first\n",
    "    return link.first + sum_nums(link.rest)"
   ]
  },
  {
   "cell_type": "code",
   "execution_count": 40,
   "metadata": {},
   "outputs": [
    {
     "data": {
      "text/plain": [
       "14"
      ]
     },
     "execution_count": 40,
     "metadata": {},
     "output_type": "execute_result"
    }
   ],
   "source": [
    "a = Link(1, Link(6, Link(7)))\n",
    "sum_nums(a)"
   ]
  },
  {
   "cell_type": "code",
   "execution_count": 43,
   "metadata": {},
   "outputs": [],
   "source": [
    "def multiply_lnks(lst_of_lnks):\n",
    "    \"\"\"\n",
    "    >>> a = Link(2, Link(3, Link(5)))\n",
    "    >>> b = Link(6, Link(4, Link(2)))\n",
    "    >>> c = Link(4, Link(1, Link(0, Link(2))))\n",
    "    >>> p = multiply_lnks([a, b, c])\n",
    "    >>> p.first\n",
    "    48\n",
    "    >>> p.rest.first\n",
    "    12\n",
    "    >>> p.rest.rest.rest is Link.empty\n",
    "    True\n",
    "    \"\"\"\n",
    "    mul_result = 1\n",
    "    if any([lnk.rest is Link.empty for lnk in lst_of_lnks]):\n",
    "        for lnk in lst_of_lnks:\n",
    "            mul_result *= lnk.first\n",
    "        return Link(mul_result)\n",
    "    else:\n",
    "        for lnk in lst_of_lnks:\n",
    "            mul_result *= lnk.first\n",
    "        return Link(mul_result, multiply_lnks([lnk.rest for lnk in lst_of_lnks]))"
   ]
  },
  {
   "cell_type": "code",
   "execution_count": 44,
   "metadata": {},
   "outputs": [
    {
     "data": {
      "text/plain": [
       "48"
      ]
     },
     "execution_count": 44,
     "metadata": {},
     "output_type": "execute_result"
    }
   ],
   "source": [
    ">>> a = Link(2, Link(3, Link(5)))\n",
    ">>> b = Link(6, Link(4, Link(2)))\n",
    ">>> c = Link(4, Link(1, Link(0, Link(2))))\n",
    ">>> p = multiply_lnks([a, b, c])\n",
    ">>> p.first"
   ]
  },
  {
   "cell_type": "code",
   "execution_count": 45,
   "metadata": {},
   "outputs": [
    {
     "data": {
      "text/plain": [
       "12"
      ]
     },
     "execution_count": 45,
     "metadata": {},
     "output_type": "execute_result"
    }
   ],
   "source": [
    ">>> p.rest.first"
   ]
  },
  {
   "cell_type": "code",
   "execution_count": 46,
   "metadata": {},
   "outputs": [
    {
     "data": {
      "text/plain": [
       "True"
      ]
     },
     "execution_count": 46,
     "metadata": {},
     "output_type": "execute_result"
    }
   ],
   "source": [
    ">>> p.rest.rest.rest is Link.empty"
   ]
  },
  {
   "cell_type": "code",
   "execution_count": 49,
   "metadata": {},
   "outputs": [],
   "source": [
    "#3.3\n",
    "def filter_link(link, f):\n",
    "    \"\"\"\n",
    "    >>> link = Link(1, Link(2, Link(3)))\n",
    "    >>> g = filter_link(link, lambda x: x % 2 == 0)\n",
    "    >>> next(g)\n",
    "    2\n",
    "    >>> next(g)\n",
    "    StopIteration\n",
    "    >>> list(filter_link(link, lambda x: x % 2 != 0))\n",
    "    [1, 3]\n",
    "    \"\"\"\n",
    "    lk = link\n",
    "    while not lk is Link.empty:\n",
    "        if f(lk.first):\n",
    "            yield lk.first\n",
    "        lk = lk.rest"
   ]
  },
  {
   "cell_type": "code",
   "execution_count": 50,
   "metadata": {},
   "outputs": [
    {
     "data": {
      "text/plain": [
       "2"
      ]
     },
     "execution_count": 50,
     "metadata": {},
     "output_type": "execute_result"
    }
   ],
   "source": [
    ">>> link = Link(1, Link(2, Link(3)))\n",
    ">>> g = filter_link(link, lambda x: x % 2 == 0)\n",
    ">>> next(g)"
   ]
  },
  {
   "cell_type": "code",
   "execution_count": 51,
   "metadata": {},
   "outputs": [
    {
     "ename": "StopIteration",
     "evalue": "",
     "output_type": "error",
     "traceback": [
      "\u001b[0;31m---------------------------------------------------------------------------\u001b[0m",
      "\u001b[0;31mStopIteration\u001b[0m                             Traceback (most recent call last)",
      "\u001b[0;32m<ipython-input-51-e734f8aca5ac>\u001b[0m in \u001b[0;36m<module>\u001b[0;34m\u001b[0m\n\u001b[0;32m----> 1\u001b[0;31m \u001b[0mnext\u001b[0m\u001b[0;34m(\u001b[0m\u001b[0mg\u001b[0m\u001b[0;34m)\u001b[0m\u001b[0;34m\u001b[0m\u001b[0;34m\u001b[0m\u001b[0m\n\u001b[0m",
      "\u001b[0;31mStopIteration\u001b[0m: "
     ]
    }
   ],
   "source": [
    ">>> next(g)"
   ]
  },
  {
   "cell_type": "code",
   "execution_count": 52,
   "metadata": {},
   "outputs": [
    {
     "data": {
      "text/plain": [
       "[1, 3]"
      ]
     },
     "execution_count": 52,
     "metadata": {},
     "output_type": "execute_result"
    }
   ],
   "source": [
    ">>> list(filter_link(link, lambda x: x % 2 != 0))"
   ]
  },
  {
   "cell_type": "code",
   "execution_count": 56,
   "metadata": {},
   "outputs": [],
   "source": [
    "def filter_no_iter(link, f):\n",
    "    \"\"\"\n",
    "    >>> link = Link(1, Link(2, Link(3)))\n",
    "    >>> list(filter_no_iter(link, lambda x: x % 2 != 0))\n",
    "    [1, 3]\n",
    "    \"\"\"\n",
    "    if link is Link.empty:\n",
    "        return []\n",
    "    elif f(link.first):\n",
    "        return [link.first] + filter_no_iter(link.rest, f)\n",
    "    return filter_no_iter(link.rest, f)"
   ]
  },
  {
   "cell_type": "code",
   "execution_count": 57,
   "metadata": {},
   "outputs": [
    {
     "data": {
      "text/plain": [
       "[1, 3]"
      ]
     },
     "execution_count": 57,
     "metadata": {},
     "output_type": "execute_result"
    }
   ],
   "source": [
    ">>> link = Link(1, Link(2, Link(3)))\n",
    ">>> list(filter_no_iter(link, lambda x: x % 2 != 0))"
   ]
  },
  {
   "cell_type": "code",
   "execution_count": 60,
   "metadata": {},
   "outputs": [],
   "source": [
    "def feed(snax, x, y):\n",
    "    def helper(lst, p, q):\n",
    "        if sum(lst) <= (p+q):\n",
    "            return 0\n",
    "        elif sum(lst) <= (p+q+max(p, q)):\n",
    "            return 1\n",
    "        elif p<0 or q<0:\n",
    "            return float('inf')\n",
    "        else:\n",
    "            a = helper(lst[1:-1], p-lst[0], q-lst[-1]) \n",
    "            b = 1+helper(lst[1:-1], p-lst[0], y-lst[-1]) \n",
    "            c = 1+helper(lst[1:-1], x-lst[0], q-lst[-1]) \n",
    "            d = 2+helper(lst[1:-1], x-lst[0], y-lst[-1]) \n",
    "            return min(a, b, c, d)\n",
    "    return helper(snax, 0, 0)"
   ]
  },
  {
   "cell_type": "code",
   "execution_count": 61,
   "metadata": {},
   "outputs": [
    {
     "data": {
      "text/plain": [
       "2"
      ]
     },
     "execution_count": 61,
     "metadata": {},
     "output_type": "execute_result"
    }
   ],
   "source": [
    ">>> feed([1, 1, 1], 2, 2)"
   ]
  },
  {
   "cell_type": "code",
   "execution_count": 62,
   "metadata": {},
   "outputs": [
    {
     "data": {
      "text/plain": [
       "3"
      ]
     },
     "execution_count": 62,
     "metadata": {},
     "output_type": "execute_result"
    }
   ],
   "source": [
    ">>> feed([1, 2, 2], 2, 2)"
   ]
  },
  {
   "cell_type": "code",
   "execution_count": 63,
   "metadata": {},
   "outputs": [
    {
     "data": {
      "text/plain": [
       "4"
      ]
     },
     "execution_count": 63,
     "metadata": {},
     "output_type": "execute_result"
    }
   ],
   "source": [
    ">>> feed([1, 1, 1, 2, 2], 2, 2)"
   ]
  },
  {
   "cell_type": "code",
   "execution_count": 64,
   "metadata": {},
   "outputs": [
    {
     "data": {
      "text/plain": [
       "6"
      ]
     },
     "execution_count": 64,
     "metadata": {},
     "output_type": "execute_result"
    }
   ],
   "source": [
    ">>> feed([3, 2, 1, 3, 2, 1, 1, 2, 3], 3, 3)"
   ]
  },
  {
   "cell_type": "code",
   "execution_count": null,
   "metadata": {},
   "outputs": [],
   "source": []
  }
 ],
 "metadata": {
  "kernelspec": {
   "display_name": "Python 3",
   "language": "python",
   "name": "python3"
  },
  "language_info": {
   "codemirror_mode": {
    "name": "ipython",
    "version": 3
   },
   "file_extension": ".py",
   "mimetype": "text/x-python",
   "name": "python",
   "nbconvert_exporter": "python",
   "pygments_lexer": "ipython3",
   "version": "3.6.9"
  }
 },
 "nbformat": 4,
 "nbformat_minor": 4
}
