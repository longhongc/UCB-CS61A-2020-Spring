{
 "cells": [
  {
   "cell_type": "code",
   "execution_count": 1,
   "metadata": {},
   "outputs": [],
   "source": [
    "#1.1\n",
    "def count_stair_ways(n):\n",
    "    if n==1:\n",
    "        return 1\n",
    "    if n==2:\n",
    "        return 2\n",
    "    \n",
    "    return count_stair_ways(n-1)+count_stair_ways(n-2)"
   ]
  },
  {
   "cell_type": "code",
   "execution_count": 6,
   "metadata": {},
   "outputs": [
    {
     "name": "stdout",
     "output_type": "stream",
     "text": [
      "CPU times: user 2.56 s, sys: 0 ns, total: 2.56 s\n",
      "Wall time: 2.65 s\n"
     ]
    },
    {
     "data": {
      "text/plain": [
       "14930352"
      ]
     },
     "execution_count": 6,
     "metadata": {},
     "output_type": "execute_result"
    }
   ],
   "source": [
    "%%time\n",
    "count_stair_ways(35)"
   ]
  },
  {
   "cell_type": "code",
   "execution_count": 17,
   "metadata": {},
   "outputs": [],
   "source": [
    "def count_k(n, k):\n",
    "    if n==1 or n==0:\n",
    "        return 1\n",
    "    if n<0:\n",
    "        return 0\n",
    "    comb=0\n",
    "    if n<k:\n",
    "        k=n\n",
    "    for i in range(k):\n",
    "        comb+=count_k(n-i-1,k)\n",
    "        \n",
    "    return comb "
   ]
  },
  {
   "cell_type": "code",
   "execution_count": 18,
   "metadata": {},
   "outputs": [
    {
     "data": {
      "text/plain": [
       "1"
      ]
     },
     "execution_count": 18,
     "metadata": {},
     "output_type": "execute_result"
    }
   ],
   "source": [
    "count_k(300, 1)"
   ]
  },
  {
   "cell_type": "code",
   "execution_count": 19,
   "metadata": {},
   "outputs": [
    {
     "data": {
      "text/plain": [
       "2"
      ]
     },
     "execution_count": 19,
     "metadata": {},
     "output_type": "execute_result"
    }
   ],
   "source": [
    "count_k(2, 6)"
   ]
  },
  {
   "cell_type": "code",
   "execution_count": 21,
   "metadata": {},
   "outputs": [
    {
     "data": {
      "text/plain": [
       "274"
      ]
     },
     "execution_count": 21,
     "metadata": {},
     "output_type": "execute_result"
    }
   ],
   "source": [
    "count_k(10, 3)"
   ]
  },
  {
   "cell_type": "code",
   "execution_count": 22,
   "metadata": {},
   "outputs": [
    {
     "name": "stdout",
     "output_type": "stream",
     "text": [
      "1 3\n"
     ]
    }
   ],
   "source": [
    "#2.1\n",
    ">>> a = [1, 5, 4, [2, 3], 3]\n",
    ">>> print(a[0], a[-1])\n",
    "# 1, 3"
   ]
  },
  {
   "cell_type": "code",
   "execution_count": 23,
   "metadata": {},
   "outputs": [
    {
     "data": {
      "text/plain": [
       "5"
      ]
     },
     "execution_count": 23,
     "metadata": {},
     "output_type": "execute_result"
    }
   ],
   "source": [
    ">>> len(a)\n",
    "5"
   ]
  },
  {
   "cell_type": "code",
   "execution_count": 24,
   "metadata": {},
   "outputs": [
    {
     "data": {
      "text/plain": [
       "False"
      ]
     },
     "execution_count": 24,
     "metadata": {},
     "output_type": "execute_result"
    }
   ],
   "source": [
    ">>> 2 in a\n",
    "#error\n",
    "#False"
   ]
  },
  {
   "cell_type": "code",
   "execution_count": 25,
   "metadata": {},
   "outputs": [
    {
     "data": {
      "text/plain": [
       "True"
      ]
     },
     "execution_count": 25,
     "metadata": {},
     "output_type": "execute_result"
    }
   ],
   "source": [
    ">>> 4 in a\n",
    "#True"
   ]
  },
  {
   "cell_type": "code",
   "execution_count": 26,
   "metadata": {},
   "outputs": [
    {
     "data": {
      "text/plain": [
       "2"
      ]
     },
     "execution_count": 26,
     "metadata": {},
     "output_type": "execute_result"
    }
   ],
   "source": [
    ">>> a[3][0]\n",
    "#2"
   ]
  },
  {
   "cell_type": "code",
   "execution_count": 29,
   "metadata": {},
   "outputs": [],
   "source": [
    "#2.2\n",
    "def even_weighted(s):\n",
    "    \"\"\"\n",
    "    >>> x = [1, 2, 3, 4, 5, 6]\n",
    "    >>> even_weighted(x)\n",
    "    [0, 6, 20]\n",
    "    \"\"\"\n",
    "    return [i*s.index(i) for i in s if s.index(i)%2==0]"
   ]
  },
  {
   "cell_type": "code",
   "execution_count": 30,
   "metadata": {},
   "outputs": [
    {
     "name": "stdout",
     "output_type": "stream",
     "text": [
      "Trying:\n",
      "    x = [1, 2, 3, 4, 5, 6]\n",
      "Expecting nothing\n",
      "ok\n",
      "Trying:\n",
      "    even_weighted(x)\n",
      "Expecting:\n",
      "    [0, 6, 20]\n",
      "ok\n",
      "2 items had no tests:\n",
      "    __main__\n",
      "    __main__.count_k\n",
      "1 items passed all tests:\n",
      "   2 tests in __main__.even_weighted\n",
      "2 tests in 3 items.\n",
      "2 passed and 0 failed.\n",
      "Test passed.\n"
     ]
    },
    {
     "data": {
      "text/plain": [
       "TestResults(failed=0, attempted=2)"
      ]
     },
     "execution_count": 30,
     "metadata": {},
     "output_type": "execute_result"
    }
   ],
   "source": [
    "import doctest\n",
    "doctest.testmod(verbose=True)"
   ]
  },
  {
   "cell_type": "code",
   "execution_count": 34,
   "metadata": {},
   "outputs": [],
   "source": [
    "#2.3\n",
    "def max_product(s):\n",
    "    \"\"\"Return the maximum product that can be formed using non-consecutive\n",
    "    elements of s.\n",
    "    >>> max_product([10,3,1,9,2]) # 10 * 9\n",
    "    90\n",
    "    >>> max_product([5,10,5,10,5]) # 5 * 5 * 5\n",
    "    125\n",
    "    >>> max_product([])\n",
    "    1\n",
    "    \"\"\"\n",
    "    if len(s)==0:\n",
    "        return 1\n",
    "    if len(s)==1:\n",
    "        return s[0]\n",
    "    if len(s)==2:\n",
    "        return max(s[0],s[1])\n",
    "    return max(s[0]*max_product(s[2:]), max_product(s[1:]))\n",
    "  \n",
    "        \n",
    "    \n"
   ]
  },
  {
   "cell_type": "code",
   "execution_count": 35,
   "metadata": {},
   "outputs": [
    {
     "name": "stdout",
     "output_type": "stream",
     "text": [
      "Trying:\n",
      "    x = [1, 2, 3, 4, 5, 6]\n",
      "Expecting nothing\n",
      "ok\n",
      "Trying:\n",
      "    even_weighted(x)\n",
      "Expecting:\n",
      "    [0, 6, 20]\n",
      "ok\n",
      "Trying:\n",
      "    max_product([10,3,1,9,2]) # 10 * 9\n",
      "Expecting:\n",
      "    90\n",
      "ok\n",
      "Trying:\n",
      "    max_product([5,10,5,10,5]) # 5 * 5 * 5\n",
      "Expecting:\n",
      "    125\n",
      "ok\n",
      "Trying:\n",
      "    max_product([])\n",
      "Expecting:\n",
      "    1\n",
      "ok\n",
      "2 items had no tests:\n",
      "    __main__\n",
      "    __main__.count_k\n",
      "2 items passed all tests:\n",
      "   2 tests in __main__.even_weighted\n",
      "   3 tests in __main__.max_product\n",
      "5 tests in 4 items.\n",
      "5 passed and 0 failed.\n",
      "Test passed.\n"
     ]
    },
    {
     "data": {
      "text/plain": [
       "TestResults(failed=0, attempted=5)"
      ]
     },
     "execution_count": 35,
     "metadata": {},
     "output_type": "execute_result"
    }
   ],
   "source": [
    "doctest.testmod(verbose=True)"
   ]
  },
  {
   "cell_type": "markdown",
   "metadata": {},
   "source": [
    "# Whole Numbers  \n",
    "(a) A hole number is a number in which every other digit dips below the digits immediately adjacent to it.\n",
    "For example, the number 968 would be considered a hole number because the number 6 is smaller than\n",
    "both of its surrounding digits. Assume that we only pass in numbers that have an odd number of digits.\n",
    "Define the following function so that it properly identifies hole numbers."
   ]
  },
  {
   "cell_type": "code",
   "execution_count": 69,
   "metadata": {},
   "outputs": [],
   "source": [
    "def check_hole_number(n):\n",
    "    \"\"\"\n",
    "    >>> check_hole_number(123)\n",
    "    False\n",
    "    >>> check_hole_number(3241968)\n",
    "    True\n",
    "    >>> check_hole_number(3245968)\n",
    "    False\n",
    "    \"\"\"\n",
    "    #hole_group=[[n[i-1],n[i],n[i+1]] for i in len(n) if i%2==1]\n",
    "    #if len(n)==3:\n",
    "    #    return 2*n[1]<(n[0]+n[2])\n",
    "    #return (n[1]<(n[0]+n[2])) and check_hole_number(n[3:])\n",
    "    \n",
    "    if n<1000:\n",
    "        return (n//100 > ((n//10)%10)) and (n%10 > ((n//10)%10))\n",
    "    return (((n%1000)//100) > ((n//10)%10)) and (n%10 > ((n//10)%10)) and check_hole_number(n//100)"
   ]
  },
  {
   "cell_type": "code",
   "execution_count": 70,
   "metadata": {},
   "outputs": [
    {
     "name": "stdout",
     "output_type": "stream",
     "text": [
      "Trying:\n",
      "    check_hole_number(123)\n",
      "Expecting:\n",
      "    False\n",
      "ok\n",
      "Trying:\n",
      "    check_hole_number(3241968)\n",
      "Expecting:\n",
      "    True\n",
      "ok\n",
      "Trying:\n",
      "    check_hole_number(3245968)\n",
      "Expecting:\n",
      "    False\n",
      "ok\n",
      "Trying:\n",
      "    x = [1, 2, 3, 4, 5, 6]\n",
      "Expecting nothing\n",
      "ok\n",
      "Trying:\n",
      "    even_weighted(x)\n",
      "Expecting:\n",
      "    [0, 6, 20]\n",
      "ok\n",
      "Trying:\n",
      "    max_product([10,3,1,9,2]) # 10 * 9\n",
      "Expecting:\n",
      "    90\n",
      "ok\n",
      "Trying:\n",
      "    max_product([5,10,5,10,5]) # 5 * 5 * 5\n",
      "Expecting:\n",
      "    125\n",
      "ok\n",
      "Trying:\n",
      "    max_product([])\n",
      "Expecting:\n",
      "    1\n",
      "ok\n",
      "2 items had no tests:\n",
      "    __main__\n",
      "    __main__.count_k\n",
      "3 items passed all tests:\n",
      "   3 tests in __main__.check_hole_number\n",
      "   2 tests in __main__.even_weighted\n",
      "   3 tests in __main__.max_product\n",
      "8 tests in 5 items.\n",
      "8 passed and 0 failed.\n",
      "Test passed.\n"
     ]
    },
    {
     "data": {
      "text/plain": [
       "TestResults(failed=0, attempted=8)"
      ]
     },
     "execution_count": 70,
     "metadata": {},
     "output_type": "execute_result"
    }
   ],
   "source": [
    "doctest.testmod(verbose=True)"
   ]
  },
  {
   "cell_type": "markdown",
   "metadata": {},
   "source": [
    "(b) Define the following function so that it properly identifies mountain numbers. A mountain number is a\n",
    "number that either\n",
    "i. has digits that strictly decrease from right to left OR strictly increase from right to left\n",
    "ii. has digits that increase from right to left up to some point in the middle of the number (not necessarily\n",
    "the exact middle digit). After reaching the maximum digit, the digits to the left of the maximum\n",
    "digit should strictly decrease."
   ]
  },
  {
   "cell_type": "code",
   "execution_count": 71,
   "metadata": {},
   "outputs": [],
   "source": [
    "def check_mountain_number(n):\n",
    "    \"\"\"\n",
    "    >>> check_mountain_number(103)\n",
    "    False\n",
    "    >>> check_mountain_number(153)\n",
    "    True\n",
    "    >>> check_mountain_number(123456)\n",
    "    True\n",
    "    >>> check_mountain_number(2345986)\n",
    "    True\n",
    "    \"\"\"\n",
    "    def helper(n, dir_now, dir_next):\n",
    "        if ((dir_now<0)and(dir_next>0)) or (dir_now==0) or (dir_next==0):\n",
    "            return False\n",
    "        if n<100:\n",
    "            return True \n",
    "        return helper(n//10, ((n//10)%10)-n%10, (((n//100)%10)-((n//10)%10)))\n",
    "    return helper(n//10, ((n//10)%10)-n%10, (((n//100)%10)-((n//10)%10)))\n"
   ]
  },
  {
   "cell_type": "code",
   "execution_count": 72,
   "metadata": {},
   "outputs": [
    {
     "name": "stdout",
     "output_type": "stream",
     "text": [
      "Trying:\n",
      "    check_hole_number(123)\n",
      "Expecting:\n",
      "    False\n",
      "ok\n",
      "Trying:\n",
      "    check_hole_number(3241968)\n",
      "Expecting:\n",
      "    True\n",
      "ok\n",
      "Trying:\n",
      "    check_hole_number(3245968)\n",
      "Expecting:\n",
      "    False\n",
      "ok\n",
      "Trying:\n",
      "    check_mountain_number(103)\n",
      "Expecting:\n",
      "    False\n",
      "ok\n",
      "Trying:\n",
      "    check_mountain_number(153)\n",
      "Expecting:\n",
      "    True\n",
      "ok\n",
      "Trying:\n",
      "    check_mountain_number(123456)\n",
      "Expecting:\n",
      "    True\n",
      "ok\n",
      "Trying:\n",
      "    check_mountain_number(2345986)\n",
      "Expecting:\n",
      "    True\n",
      "ok\n",
      "Trying:\n",
      "    x = [1, 2, 3, 4, 5, 6]\n",
      "Expecting nothing\n",
      "ok\n",
      "Trying:\n",
      "    even_weighted(x)\n",
      "Expecting:\n",
      "    [0, 6, 20]\n",
      "ok\n",
      "Trying:\n",
      "    max_product([10,3,1,9,2]) # 10 * 9\n",
      "Expecting:\n",
      "    90\n",
      "ok\n",
      "Trying:\n",
      "    max_product([5,10,5,10,5]) # 5 * 5 * 5\n",
      "Expecting:\n",
      "    125\n",
      "ok\n",
      "Trying:\n",
      "    max_product([])\n",
      "Expecting:\n",
      "    1\n",
      "ok\n",
      "2 items had no tests:\n",
      "    __main__\n",
      "    __main__.count_k\n",
      "4 items passed all tests:\n",
      "   3 tests in __main__.check_hole_number\n",
      "   4 tests in __main__.check_mountain_number\n",
      "   2 tests in __main__.even_weighted\n",
      "   3 tests in __main__.max_product\n",
      "12 tests in 6 items.\n",
      "12 passed and 0 failed.\n",
      "Test passed.\n"
     ]
    },
    {
     "data": {
      "text/plain": [
       "TestResults(failed=0, attempted=12)"
      ]
     },
     "execution_count": 72,
     "metadata": {},
     "output_type": "execute_result"
    }
   ],
   "source": [
    "doctest.testmod(verbose=True)"
   ]
  },
  {
   "cell_type": "code",
   "execution_count": null,
   "metadata": {},
   "outputs": [],
   "source": []
  }
 ],
 "metadata": {
  "kernelspec": {
   "display_name": "Python 3",
   "language": "python",
   "name": "python3"
  },
  "language_info": {
   "codemirror_mode": {
    "name": "ipython",
    "version": 3
   },
   "file_extension": ".py",
   "mimetype": "text/x-python",
   "name": "python",
   "nbconvert_exporter": "python",
   "pygments_lexer": "ipython3",
   "version": "3.6.9"
  }
 },
 "nbformat": 4,
 "nbformat_minor": 4
}
