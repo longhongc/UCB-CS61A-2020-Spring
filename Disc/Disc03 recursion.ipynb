{
 "cells": [
  {
   "cell_type": "code",
   "execution_count": 6,
   "metadata": {},
   "outputs": [],
   "source": [
    "def remove(n, digit):\n",
    "    kept, digits=0,0\n",
    "    while n!=0:\n",
    "        n, last = n // 10, n % 10\n",
    "        if last != digit:\n",
    "            kept = kept+(10**digits)*last\n",
    "            digits = digits + 1\n",
    "    return kept"
   ]
  },
  {
   "cell_type": "code",
   "execution_count": 8,
   "metadata": {},
   "outputs": [
    {
     "data": {
      "text/plain": [
       "4313"
      ]
     },
     "execution_count": 8,
     "metadata": {},
     "output_type": "execute_result"
    }
   ],
   "source": [
    "remove(243132, 2)"
   ]
  },
  {
   "cell_type": "code",
   "execution_count": 9,
   "metadata": {},
   "outputs": [],
   "source": [
    "def f(m,n):\n",
    "    if n==1:\n",
    "        return m\n",
    "    return m+f(m,n-1)"
   ]
  },
  {
   "cell_type": "code",
   "execution_count": 10,
   "metadata": {},
   "outputs": [
    {
     "data": {
      "text/plain": [
       "15"
      ]
     },
     "execution_count": 10,
     "metadata": {},
     "output_type": "execute_result"
    }
   ],
   "source": [
    "f(5,3)"
   ]
  },
  {
   "cell_type": "code",
   "execution_count": 53,
   "metadata": {},
   "outputs": [],
   "source": [
    "def hailstone(n):\n",
    "    print(n)\n",
    "    count=1\n",
    "    if n==1:\n",
    "        return 1\n",
    "    if n%2==0:\n",
    "        count += hailstone(n/2)\n",
    "        return count\n",
    "    if n%2==1:\n",
    "        count += hailstone(n*3+1)\n",
    "        return count\n",
    "    "
   ]
  },
  {
   "cell_type": "code",
   "execution_count": 54,
   "metadata": {},
   "outputs": [
    {
     "name": "stdout",
     "output_type": "stream",
     "text": [
      "10\n",
      "5.0\n",
      "16.0\n",
      "8.0\n",
      "4.0\n",
      "2.0\n",
      "1.0\n"
     ]
    }
   ],
   "source": [
    "a=hailstone(10)"
   ]
  },
  {
   "cell_type": "code",
   "execution_count": 55,
   "metadata": {},
   "outputs": [
    {
     "data": {
      "text/plain": [
       "7"
      ]
     },
     "execution_count": 55,
     "metadata": {},
     "output_type": "execute_result"
    }
   ],
   "source": [
    "a"
   ]
  },
  {
   "cell_type": "code",
   "execution_count": 26,
   "metadata": {},
   "outputs": [],
   "source": [
    "def merge(n1, n2):\n",
    "    \"\"\" Merges two numbers\n",
    "    >>> merge(31, 42)\n",
    "    4321\n",
    "    >>> merge(21, 0)\n",
    "    21\n",
    "    >>> merge (21, 31)\n",
    "    3211\n",
    "    \"\"\"\n",
    "    if n2==0:\n",
    "        return n1\n",
    "    last1, last2 = n1%10, n2%10\n",
    "    if last2 < last1:\n",
    "        return last2+10*merge(n1, n2//10)\n",
    "    if last1 <= last2:\n",
    "        return last1+10*merge(n2, n1//10)\n",
    "\n"
   ]
  },
  {
   "cell_type": "code",
   "execution_count": 27,
   "metadata": {},
   "outputs": [
    {
     "name": "stdout",
     "output_type": "stream",
     "text": [
      "Trying:\n",
      "    merge(31, 42)\n",
      "Expecting:\n",
      "    4321\n",
      "ok\n",
      "Trying:\n",
      "    merge(21, 0)\n",
      "Expecting:\n",
      "    21\n",
      "ok\n",
      "Trying:\n",
      "    merge (21, 31)\n",
      "Expecting:\n",
      "    3211\n",
      "ok\n",
      "4 items had no tests:\n",
      "    __main__\n",
      "    __main__.f\n",
      "    __main__.hailstone\n",
      "    __main__.remove\n",
      "1 items passed all tests:\n",
      "   3 tests in __main__.merge\n",
      "3 tests in 5 items.\n",
      "3 passed and 0 failed.\n",
      "Test passed.\n"
     ]
    },
    {
     "data": {
      "text/plain": [
       "TestResults(failed=0, attempted=3)"
      ]
     },
     "execution_count": 27,
     "metadata": {},
     "output_type": "execute_result"
    }
   ],
   "source": [
    "import doctest\n",
    "doctest.testmod(verbose=True)"
   ]
  },
  {
   "cell_type": "code",
   "execution_count": 31,
   "metadata": {},
   "outputs": [],
   "source": [
    "def make_func_repeater(f,x):\n",
    "    \"\"\"\n",
    "    >>> incr_1 = make_func_repeater(lambda x: x + 1, 1)\n",
    "    >>> incr_1(2) #same as f(f(x))\n",
    "    3\n",
    "    >>> incr_1(5)\n",
    "    6\n",
    "    \"\"\"\n",
    "    def func(n):\n",
    "        if n==1:\n",
    "            return f(x)\n",
    "        return f(func(n-1))\n",
    "    return func\n",
    "    "
   ]
  },
  {
   "cell_type": "code",
   "execution_count": 32,
   "metadata": {},
   "outputs": [
    {
     "name": "stdout",
     "output_type": "stream",
     "text": [
      "Trying:\n",
      "    incr_1 = make_func_repeater(lambda x: x + 1, 1)\n",
      "Expecting nothing\n",
      "ok\n",
      "Trying:\n",
      "    incr_1(2) #same as f(f(x))\n",
      "Expecting:\n",
      "    3\n",
      "ok\n",
      "Trying:\n",
      "    incr_1(5)\n",
      "Expecting:\n",
      "    6\n",
      "ok\n",
      "Trying:\n",
      "    merge(31, 42)\n",
      "Expecting:\n",
      "    4321\n",
      "ok\n",
      "Trying:\n",
      "    merge(21, 0)\n",
      "Expecting:\n",
      "    21\n",
      "ok\n",
      "Trying:\n",
      "    merge (21, 31)\n",
      "Expecting:\n",
      "    3211\n",
      "ok\n",
      "4 items had no tests:\n",
      "    __main__\n",
      "    __main__.f\n",
      "    __main__.hailstone\n",
      "    __main__.remove\n",
      "2 items passed all tests:\n",
      "   3 tests in __main__.make_func_repeater\n",
      "   3 tests in __main__.merge\n",
      "6 tests in 6 items.\n",
      "6 passed and 0 failed.\n",
      "Test passed.\n"
     ]
    },
    {
     "data": {
      "text/plain": [
       "TestResults(failed=0, attempted=6)"
      ]
     },
     "execution_count": 32,
     "metadata": {},
     "output_type": "execute_result"
    }
   ],
   "source": [
    "doctest.testmod(verbose=True)"
   ]
  },
  {
   "cell_type": "code",
   "execution_count": 36,
   "metadata": {},
   "outputs": [],
   "source": [
    "def is_prime(n):\n",
    "    if n == 1:\n",
    "        return False\n",
    "    k = 2\n",
    "    while k < n:\n",
    "        if n % k == 0:\n",
    "            return False\n",
    "        k += 1\n",
    "    return True"
   ]
  },
  {
   "cell_type": "code",
   "execution_count": 43,
   "metadata": {},
   "outputs": [],
   "source": [
    "def is_prime(n):\n",
    "    \"\"\"\n",
    "    >>> is_prime(7)\n",
    "    True\n",
    "    >>> is_prime(10)\n",
    "    False\n",
    "    >>> is_prime(1)\n",
    "    False\n",
    "    \"\"\"\n",
    "    def primehelper(k):\n",
    "        if n==1:\n",
    "            return False\n",
    "        if k==n:\n",
    "            return True\n",
    "        if n%k == 0:\n",
    "            return False\n",
    "        return primehelper(k+1)\n",
    "    return primehelper(2)\n",
    "    "
   ]
  },
  {
   "cell_type": "code",
   "execution_count": 44,
   "metadata": {},
   "outputs": [
    {
     "name": "stdout",
     "output_type": "stream",
     "text": [
      "Trying:\n",
      "    is_prime(7)\n",
      "Expecting:\n",
      "    True\n",
      "ok\n",
      "Trying:\n",
      "    is_prime(10)\n",
      "Expecting:\n",
      "    False\n",
      "ok\n",
      "Trying:\n",
      "    is_prime(1)\n",
      "Expecting:\n",
      "    False\n",
      "ok\n",
      "Trying:\n",
      "    incr_1 = make_func_repeater(lambda x: x + 1, 1)\n",
      "Expecting nothing\n",
      "ok\n",
      "Trying:\n",
      "    incr_1(2) #same as f(f(x))\n",
      "Expecting:\n",
      "    3\n",
      "ok\n",
      "Trying:\n",
      "    incr_1(5)\n",
      "Expecting:\n",
      "    6\n",
      "ok\n",
      "Trying:\n",
      "    merge(31, 42)\n",
      "Expecting:\n",
      "    4321\n",
      "ok\n",
      "Trying:\n",
      "    merge(21, 0)\n",
      "Expecting:\n",
      "    21\n",
      "ok\n",
      "Trying:\n",
      "    merge (21, 31)\n",
      "Expecting:\n",
      "    3211\n",
      "ok\n",
      "4 items had no tests:\n",
      "    __main__\n",
      "    __main__.f\n",
      "    __main__.hailstone\n",
      "    __main__.remove\n",
      "3 items passed all tests:\n",
      "   3 tests in __main__.is_prime\n",
      "   3 tests in __main__.make_func_repeater\n",
      "   3 tests in __main__.merge\n",
      "9 tests in 7 items.\n",
      "9 passed and 0 failed.\n",
      "Test passed.\n"
     ]
    },
    {
     "data": {
      "text/plain": [
       "TestResults(failed=0, attempted=9)"
      ]
     },
     "execution_count": 44,
     "metadata": {},
     "output_type": "execute_result"
    }
   ],
   "source": [
    "doctest.testmod(verbose=True)"
   ]
  },
  {
   "cell_type": "code",
   "execution_count": null,
   "metadata": {},
   "outputs": [],
   "source": []
  }
 ],
 "metadata": {
  "kernelspec": {
   "display_name": "Python 3",
   "language": "python",
   "name": "python3"
  },
  "language_info": {
   "codemirror_mode": {
    "name": "ipython",
    "version": 3
   },
   "file_extension": ".py",
   "mimetype": "text/x-python",
   "name": "python",
   "nbconvert_exporter": "python",
   "pygments_lexer": "ipython3",
   "version": "3.6.9"
  }
 },
 "nbformat": 4,
 "nbformat_minor": 4
}
